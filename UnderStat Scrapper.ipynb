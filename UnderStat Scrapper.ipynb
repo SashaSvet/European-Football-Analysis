{
 "cells": [
  {
   "cell_type": "code",
   "execution_count": 19,
   "metadata": {
    "ExecuteTime": {
     "end_time": "2019-03-19T19:41:01.458937Z",
     "start_time": "2019-03-19T19:41:01.440411Z"
    },
    "collapsed": true
   },
   "outputs": [],
   "source": [
    "import pandas as pd\n",
    "import matplotlib.pyplot as plt\n",
    "from selenium import webdriver\n",
    "from selenium.webdriver.common.keys import Keys\n",
    "import re\n",
    "import numpy as np \n",
    "import glob \n",
    "import warnings \n",
    "from scipy.stats import norm\n",
    "from IPython.display import display, HTML\n",
    "import scipy\n",
    "import os\n",
    "warnings.filterwarnings(\"ignore\")\n",
    "%matplotlib inline\n",
    "import seaborn as sns\n",
    "pd.options.display.float_format = '{:.2f}'.format\n",
    "sns.set()"
   ]
  },
  {
   "cell_type": "code",
   "execution_count": 14,
   "metadata": {
    "ExecuteTime": {
     "end_time": "2019-03-19T19:28:55.443466Z",
     "start_time": "2019-03-19T19:28:55.435262Z"
    }
   },
   "outputs": [],
   "source": [
    "leagues = ['EPL','La_Liga','Bundesliga','Serie_A','Ligue_1','RFPL']\n",
    "\n",
    "path = r'C:\\Users\\user\\Desktop\\Kaggle\\Football stats analysis project\\Data\\UnderStat'"
   ]
  },
  {
   "cell_type": "code",
   "execution_count": 4,
   "metadata": {
    "ExecuteTime": {
     "end_time": "2019-03-19T19:22:53.795155Z",
     "start_time": "2019-03-19T19:22:51.695772Z"
    },
    "collapsed": true
   },
   "outputs": [],
   "source": [
    "driver = webdriver.Chrome(r\"C:/chromedriver_win32/chromedriver.exe\")"
   ]
  },
  {
   "cell_type": "code",
   "execution_count": 17,
   "metadata": {
    "ExecuteTime": {
     "end_time": "2019-03-19T19:39:48.839532Z",
     "start_time": "2019-03-19T19:38:45.534527Z"
    }
   },
   "outputs": [
    {
     "name": "stdout",
     "output_type": "stream",
     "text": [
      "Every league team stats crawled!\n"
     ]
    }
   ],
   "source": [
    "def getLeagueTeams(league):    \n",
    "    dfOut =[]\n",
    "    values=[]\n",
    "    #Establish Connection\n",
    "    driver.get('https://understat.com/league/'+league)\n",
    "    #Get the relevant object\n",
    "    base = driver.find_element_by_id('league-chemp')\n",
    "    #Get Rows\n",
    "    rows = base.find_elements_by_tag_name('tr')\n",
    "    for item in range(1,len(rows)):\n",
    "        #Get elements from the row\n",
    "        row = rows[item].find_elements_by_tag_name('td')\n",
    "        #Add those elements to the values list\n",
    "        values.append([row[i].text for i in range(1,len(row))])\n",
    "    dfOut = pd.DataFrame(values,columns=['team','matches','wins','draws','losses',\n",
    "                                             'goals_for','goals_against','points','xG','xGA','xPTS'])\n",
    "    return dfOut\n",
    "    \n",
    "def getLeagueStats(leagues):\n",
    "    #Go through every league\n",
    "    for league in leagues:\n",
    "        df = getLeagueTeams(league)\n",
    "        df['League'] = league\n",
    "        df.to_csv(path + '\\Team_Stats_%s'%league + '.csv')\n",
    "    return print('Every league team stats crawled!')\n",
    "\n",
    "getLeagueStats(leagues)    "
   ]
  },
  {
   "cell_type": "code",
   "execution_count": 21,
   "metadata": {
    "ExecuteTime": {
     "end_time": "2019-03-19T19:41:18.365812Z",
     "start_time": "2019-03-19T19:41:18.286252Z"
    }
   },
   "outputs": [],
   "source": [
    "os.chdir(r'C:\\Users\\user\\Desktop\\Kaggle\\Football stats analysis project\\Data\\UnderStat')\n",
    "def loadData(path):\n",
    "    allFiles = glob.glob(path)\n",
    "    dfOut = pd.DataFrame()\n",
    "    list_ = []\n",
    "    for file_ in allFiles:\n",
    "        df = pd.read_csv(file_,index_col=0, header=0)\n",
    "        list_.append(df)\n",
    "    dfOut = pd.concat(list_)\n",
    "    return dfOut\n",
    "df = loadData('Team_Stats_*.csv')\n",
    "team_names = df['team'].values\n",
    "team_names = [i.replace(' ','_') for i in team_names]"
   ]
  },
  {
   "cell_type": "code",
   "execution_count": 40,
   "metadata": {
    "ExecuteTime": {
     "end_time": "2019-03-19T20:51:06.019801Z",
     "start_time": "2019-03-19T20:14:24.460785Z"
    },
    "scrolled": true
   },
   "outputs": [
    {
     "name": "stdout",
     "output_type": "stream",
     "text": [
      "Done\n"
     ]
    }
   ],
   "source": [
    "\"\"\"Function mines players stats Data\"\"\"\n",
    "def getPlayerStats(name):\n",
    "    values = []\n",
    "    driver.get('https://understat.com/team/'+name+'/2018')\n",
    "    baseTable = driver.find_element_by_id('team-players')\n",
    "    tableRows = baseTable.find_elements_by_tag_name('tr')\n",
    "    for item in range(1,len(tableRows)):\n",
    "        row = tableRows[item].find_elements_by_tag_name('td')\n",
    "        values.append([row[i].text for i in range(1,len(row))])\n",
    "    df = pd.DataFrame(values,columns=['Name','Position','Apps','Min','Goals_Scored','Assists','Sh90',\n",
    "                                     'KP90','xG','xA','xG90','xA90'])\n",
    "    return df \n",
    "\n",
    "\n",
    "def getTeamPlayersStats(team_names):\n",
    "    for name in team_names:\n",
    "        df = getPlayerStats(name)\n",
    "        df['Team'] = name\n",
    "        df.to_csv(path + '\\Player_Stats_%s'%name + '.csv')\n",
    "    return print('Done')\n",
    "\n",
    "getTeamPlayersStats(team_names)"
   ]
  },
  {
   "cell_type": "code",
   "execution_count": 43,
   "metadata": {
    "ExecuteTime": {
     "end_time": "2019-03-19T20:57:45.184195Z",
     "start_time": "2019-03-19T20:57:42.567463Z"
    }
   },
   "outputs": [],
   "source": [
    "\"\"\"summary\"\"\"\n",
    "name = 'Manchester_United'\n",
    "\n",
    "values = []\n",
    "driver.get('https://understat.com/team/'+name+'/2018')\n",
    "baseTable = driver.find_element_by_id('team-statistics')\n",
    "tableRows = baseTable.find_elements_by_tag_name('tr')\n",
    "for item in range(1,len(tableRows)):\n",
    "    row = tableRows[item].find_elements_by_tag_name('td')\n",
    "    values.append([row[i].text for i in range(1,len(row))])\n",
    "df = pd.DataFrame(values)"
   ]
  },
  {
   "cell_type": "code",
   "execution_count": 68,
   "metadata": {
    "ExecuteTime": {
     "end_time": "2019-03-19T21:22:12.876084Z",
     "start_time": "2019-03-19T21:22:04.028531Z"
    }
   },
   "outputs": [],
   "source": [
    "\"\"\"formation\"\"\"\n",
    "\n",
    "name = 'Manchester_United'\n",
    "\n",
    "values = []\n",
    "driver.get('https://understat.com/team/'+name+'/2018')\n",
    "driver.find_element_by_xpath(\"//label[@for='statistic-3']\").click()\n",
    "baseTable = driver.find_element_by_id('team-statistics')\n",
    "tableRows = baseTable.find_elements_by_tag_name('tr')\n",
    "for item in range(1,len(tableRows)):\n",
    "    row = tableRows[item].find_elements_by_tag_name('td')\n",
    "    values.append([row[i].text for i in range(1,len(row))])\n",
    "df = pd.DataFrame(values)"
   ]
  },
  {
   "cell_type": "code",
   "execution_count": 69,
   "metadata": {
    "ExecuteTime": {
     "end_time": "2019-03-19T21:22:12.897027Z",
     "start_time": "2019-03-19T21:22:12.877083Z"
    }
   },
   "outputs": [
    {
     "data": {
      "text/html": [
       "<div>\n",
       "<style scoped>\n",
       "    .dataframe tbody tr th:only-of-type {\n",
       "        vertical-align: middle;\n",
       "    }\n",
       "\n",
       "    .dataframe tbody tr th {\n",
       "        vertical-align: top;\n",
       "    }\n",
       "\n",
       "    .dataframe thead th {\n",
       "        text-align: right;\n",
       "    }\n",
       "</style>\n",
       "<table border=\"1\" class=\"dataframe\">\n",
       "  <thead>\n",
       "    <tr style=\"text-align: right;\">\n",
       "      <th></th>\n",
       "      <th>0</th>\n",
       "      <th>1</th>\n",
       "      <th>2</th>\n",
       "      <th>3</th>\n",
       "      <th>4</th>\n",
       "      <th>5</th>\n",
       "      <th>6</th>\n",
       "      <th>7</th>\n",
       "      <th>8</th>\n",
       "      <th>9</th>\n",
       "      <th>10</th>\n",
       "    </tr>\n",
       "  </thead>\n",
       "  <tbody>\n",
       "    <tr>\n",
       "      <th>0</th>\n",
       "      <td>Goal diff 0</td>\n",
       "      <td>1284</td>\n",
       "      <td>154</td>\n",
       "      <td>20</td>\n",
       "      <td>170</td>\n",
       "      <td>15</td>\n",
       "      <td>20.43+0.43</td>\n",
       "      <td>17.54+2.54</td>\n",
       "      <td>2.89</td>\n",
       "      <td>1.43</td>\n",
       "      <td>1.23</td>\n",
       "    </tr>\n",
       "    <tr>\n",
       "      <th>1</th>\n",
       "      <td>Goal diff +1</td>\n",
       "      <td>556</td>\n",
       "      <td>82</td>\n",
       "      <td>14</td>\n",
       "      <td>86</td>\n",
       "      <td>3</td>\n",
       "      <td>9.16-4.84</td>\n",
       "      <td>6.49+3.49</td>\n",
       "      <td>2.67</td>\n",
       "      <td>1.48</td>\n",
       "      <td>1.05</td>\n",
       "    </tr>\n",
       "    <tr>\n",
       "      <th>2</th>\n",
       "      <td>Goal diff &gt; +1</td>\n",
       "      <td>422</td>\n",
       "      <td>76</td>\n",
       "      <td>8</td>\n",
       "      <td>66</td>\n",
       "      <td>9</td>\n",
       "      <td>13.24+5.24</td>\n",
       "      <td>9.96+0.96</td>\n",
       "      <td>3.27</td>\n",
       "      <td>2.82</td>\n",
       "      <td>2.12</td>\n",
       "    </tr>\n",
       "    <tr>\n",
       "      <th>3</th>\n",
       "      <td>Goal diff -1</td>\n",
       "      <td>318</td>\n",
       "      <td>56</td>\n",
       "      <td>9</td>\n",
       "      <td>49</td>\n",
       "      <td>12</td>\n",
       "      <td>8.00-1.00</td>\n",
       "      <td>7.38-4.62</td>\n",
       "      <td>0.63</td>\n",
       "      <td>2.26</td>\n",
       "      <td>2.09</td>\n",
       "    </tr>\n",
       "    <tr>\n",
       "      <th>4</th>\n",
       "      <td>Goal diff &lt; -1</td>\n",
       "      <td>253</td>\n",
       "      <td>43</td>\n",
       "      <td>7</td>\n",
       "      <td>21</td>\n",
       "      <td>1</td>\n",
       "      <td>6.49-0.51</td>\n",
       "      <td>2.93+1.93</td>\n",
       "      <td>3.56</td>\n",
       "      <td>2.31</td>\n",
       "      <td>1.04</td>\n",
       "    </tr>\n",
       "  </tbody>\n",
       "</table>\n",
       "</div>"
      ],
      "text/plain": [
       "               0     1    2   3    4   5           6           7     8     9   \\\n",
       "0     Goal diff 0  1284  154  20  170  15  20.43+0.43  17.54+2.54  2.89  1.43   \n",
       "1    Goal diff +1   556   82  14   86   3   9.16-4.84   6.49+3.49  2.67  1.48   \n",
       "2  Goal diff > +1   422   76   8   66   9  13.24+5.24   9.96+0.96  3.27  2.82   \n",
       "3    Goal diff -1   318   56   9   49  12   8.00-1.00   7.38-4.62  0.63  2.26   \n",
       "4  Goal diff < -1   253   43   7   21   1   6.49-0.51   2.93+1.93  3.56  2.31   \n",
       "\n",
       "     10  \n",
       "0  1.23  \n",
       "1  1.05  \n",
       "2  2.12  \n",
       "3  2.09  \n",
       "4  1.04  "
      ]
     },
     "execution_count": 69,
     "metadata": {},
     "output_type": "execute_result"
    }
   ],
   "source": [
    "df"
   ]
  }
 ],
 "metadata": {
  "kernelspec": {
   "display_name": "Python 3",
   "language": "python",
   "name": "python3"
  },
  "language_info": {
   "codemirror_mode": {
    "name": "ipython",
    "version": 3
   },
   "file_extension": ".py",
   "mimetype": "text/x-python",
   "name": "python",
   "nbconvert_exporter": "python",
   "pygments_lexer": "ipython3",
   "version": "3.6.3"
  }
 },
 "nbformat": 4,
 "nbformat_minor": 2
}
