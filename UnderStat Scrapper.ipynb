{
 "cells": [
  {
   "cell_type": "code",
   "execution_count": 19,
   "metadata": {
    "ExecuteTime": {
     "end_time": "2019-03-30T17:55:37.168959Z",
     "start_time": "2019-03-30T17:55:37.128773Z"
    },
    "collapsed": true
   },
   "outputs": [],
   "source": [
    "import pandas as pd\n",
    "import matplotlib.pyplot as plt\n",
    "from selenium import webdriver\n",
    "from selenium.webdriver.common.keys import Keys\n",
    "import re\n",
    "import numpy as np \n",
    "import glob \n",
    "import warnings \n",
    "from scipy.stats import norm\n",
    "from IPython.display import display, HTML\n",
    "import scipy\n",
    "import os\n",
    "warnings.filterwarnings(\"ignore\")\n",
    "%matplotlib inline\n",
    "import seaborn as sns\n",
    "pd.options.display.float_format = '{:.2f}'.format\n",
    "sns.set()"
   ]
  },
  {
   "cell_type": "code",
   "execution_count": 20,
   "metadata": {
    "ExecuteTime": {
     "end_time": "2019-03-30T17:55:37.211499Z",
     "start_time": "2019-03-30T17:55:37.172539Z"
    },
    "collapsed": true
   },
   "outputs": [],
   "source": [
    "leagues = ['EPL','La_Liga','Bundesliga','Serie_A','Ligue_1','RFPL']\n",
    "\n",
    "path = r'C:\\Users\\user\\Desktop\\Kaggle\\Football stats analysis project\\Data\\UnderStat'"
   ]
  },
  {
   "cell_type": "code",
   "execution_count": 3,
   "metadata": {
    "ExecuteTime": {
     "end_time": "2019-03-30T16:50:19.980214Z",
     "start_time": "2019-03-30T16:50:17.265566Z"
    },
    "collapsed": true
   },
   "outputs": [],
   "source": [
    "driver = webdriver.Chrome(r\"C:/chromedriver_win32/chromedriver.exe\")"
   ]
  },
  {
   "cell_type": "code",
   "execution_count": 21,
   "metadata": {
    "ExecuteTime": {
     "end_time": "2019-03-30T17:57:11.480143Z",
     "start_time": "2019-03-30T17:55:39.332477Z"
    }
   },
   "outputs": [
    {
     "name": "stdout",
     "output_type": "stream",
     "text": [
      "Every league team stats crawled!\n"
     ]
    }
   ],
   "source": [
    "def getLeagueTeams(league):    \n",
    "    dfOut =[]\n",
    "    values=[]\n",
    "    #Establish Connection\n",
    "    driver.get('https://understat.com/league/'+league)\n",
    "    #Get the relevant object\n",
    "    base = driver.find_element_by_id('league-chemp')\n",
    "    #Get Rows\n",
    "    rows = base.find_elements_by_tag_name('tr')\n",
    "    for item in range(1,len(rows)):\n",
    "        #Get elements from the row\n",
    "        row = rows[item].find_elements_by_tag_name('td')\n",
    "        #Add those elements to the values list\n",
    "        values.append([row[i].text for i in range(1,len(row))])\n",
    "    dfOut = pd.DataFrame(values,columns=['team','matches','wins','draws','losses',\n",
    "                                             'goals_for','goals_against','points','xG','xGA','xPTS'])\n",
    "    return dfOut\n",
    "    \n",
    "def getLeagueStats(leagues):\n",
    "    #Go through every league\n",
    "    for league in leagues:\n",
    "        df = getLeagueTeams(league)\n",
    "        df['League'] = league\n",
    "        df.to_csv(path + '\\Team_Stats_%s'%league + '.csv')\n",
    "    return print('Every league team stats crawled!')\n",
    "\n",
    "getLeagueStats(leagues)    "
   ]
  },
  {
   "cell_type": "code",
   "execution_count": 6,
   "metadata": {
    "ExecuteTime": {
     "end_time": "2019-03-30T16:53:24.028436Z",
     "start_time": "2019-03-30T16:53:23.945357Z"
    },
    "collapsed": true
   },
   "outputs": [],
   "source": [
    "os.chdir(r'C:\\Users\\user\\Desktop\\Kaggle\\Football stats analysis project\\Data\\UnderStat')\n",
    "def loadData(path):\n",
    "    allFiles = glob.glob(path)\n",
    "    dfOut = pd.DataFrame()\n",
    "    list_ = []\n",
    "    for file_ in allFiles:\n",
    "        df = pd.read_csv(file_,index_col=0, header=0)\n",
    "        list_.append(df)\n",
    "    dfOut = pd.concat(list_)\n",
    "    return dfOut\n",
    "df = loadData('Team_Stats_*.csv')\n",
    "team_names = df['team'].values\n",
    "team_names = [i.replace(' ','_') for i in team_names]"
   ]
  },
  {
   "cell_type": "code",
   "execution_count": null,
   "metadata": {
    "ExecuteTime": {
     "start_time": "2019-03-30T17:57:31.458Z"
    },
    "scrolled": true
   },
   "outputs": [],
   "source": [
    "\"\"\"Function mines players stats Data\"\"\"\n",
    "def getPlayerStats(name):\n",
    "    values = []\n",
    "    driver.get('https://understat.com/team/'+name+'/2018')\n",
    "    baseTable = driver.find_element_by_id('team-players')\n",
    "    tableRows = baseTable.find_elements_by_tag_name('tr')\n",
    "    for item in range(1,len(tableRows)):\n",
    "        row = tableRows[item].find_elements_by_tag_name('td')\n",
    "        values.append([row[i].text for i in range(1,len(row))])\n",
    "    df = pd.DataFrame(values,columns=['Name','Position','Apps','Min','Goals_Scored','Assists','Sh90',\n",
    "                                     'KP90','xG','xA','xG90','xA90'])\n",
    "    return df \n",
    "\n",
    "\n",
    "def getTeamPlayersStats(team_names):\n",
    "    for name in team_names:\n",
    "        df = getPlayerStats(name)\n",
    "        df['Team'] = name\n",
    "        df.to_csv(path + '\\Player_Stats_%s'%name + '.csv')\n",
    "    return print('Done')\n",
    "\n",
    "getTeamPlayersStats(team_names)"
   ]
  },
  {
   "cell_type": "code",
   "execution_count": 8,
   "metadata": {
    "ExecuteTime": {
     "end_time": "2019-03-30T17:43:22.489662Z",
     "start_time": "2019-03-30T17:43:17.127635Z"
    },
    "collapsed": true
   },
   "outputs": [],
   "source": [
    "\"\"\"summary\"\"\"\n",
    "name = 'Manchester_United'\n",
    "\n",
    "values = []\n",
    "driver.get('https://understat.com/team/'+name+'/2018')\n",
    "baseTable = driver.find_element_by_id('team-statistics')\n",
    "tableRows = baseTable.find_elements_by_tag_name('tr')\n",
    "for item in range(1,len(tableRows)):\n",
    "    row = tableRows[item].find_elements_by_tag_name('td')\n",
    "    values.append([row[i].text for i in range(1,len(row))])\n",
    "df = pd.DataFrame(values)"
   ]
  },
  {
   "cell_type": "code",
   "execution_count": 12,
   "metadata": {
    "ExecuteTime": {
     "end_time": "2019-03-30T17:45:50.792475Z",
     "start_time": "2019-03-30T17:45:36.815026Z"
    },
    "collapsed": true
   },
   "outputs": [],
   "source": [
    "\"\"\"formation\"\"\"\n",
    "\n",
    "name = 'Manchester_United'\n",
    "\n",
    "values = []\n",
    "driver.get('https://understat.com/team/'+name+'/2018')\n",
    "driver.find_element_by_xpath(\"//label[@for='statistic-2']\").click()\n",
    "baseTable = driver.find_element_by_id('team-statistics')\n",
    "tableRows = baseTable.find_elements_by_tag_name('tr')\n",
    "for item in range(0,len(tableRows)):\n",
    "    row = tableRows[item].find_elements_by_tag_name('td')\n",
    "    values.append([row[i].text for i in range(0,len(row))])\n",
    "df = pd.DataFrame(values)"
   ]
  },
  {
   "cell_type": "code",
   "execution_count": 14,
   "metadata": {
    "ExecuteTime": {
     "end_time": "2019-03-30T17:51:45.146353Z",
     "start_time": "2019-03-30T17:51:32.484424Z"
    }
   },
   "outputs": [],
   "source": [
    "\"\"\"Game State\"\"\"\n",
    "\n",
    "name = 'Manchester_United'\n",
    "\n",
    "values = []\n",
    "driver.get('https://understat.com/team/'+name+'/2018')\n",
    "driver.find_element_by_xpath(\"//label[@for='statistic-3']\").click()\n",
    "baseTable = driver.find_element_by_id('team-statistics')\n",
    "tableRows = baseTable.find_elements_by_tag_name('tr')\n",
    "for item in range(0,len(tableRows)):\n",
    "    row = tableRows[item].find_elements_by_tag_name('td')\n",
    "    values.append([row[i].text for i in range(0,len(row))])\n",
    "df = pd.DataFrame(values)"
   ]
  },
  {
   "cell_type": "code",
   "execution_count": 16,
   "metadata": {
    "ExecuteTime": {
     "end_time": "2019-03-30T17:52:39.471804Z",
     "start_time": "2019-03-30T17:52:28.691279Z"
    }
   },
   "outputs": [],
   "source": [
    "\"\"\"Timing\"\"\"\n",
    "\n",
    "name = 'Manchester_United'\n",
    "\n",
    "values = []\n",
    "driver.get('https://understat.com/team/'+name+'/2018')\n",
    "driver.find_element_by_xpath(\"//label[@for='statistic-4']\").click()\n",
    "baseTable = driver.find_element_by_id('team-statistics')\n",
    "tableRows = baseTable.find_elements_by_tag_name('tr')\n",
    "for item in range(0,len(tableRows)):\n",
    "    row = tableRows[item].find_elements_by_tag_name('td')\n",
    "    values.append([row[i].text for i in range(0,len(row))])\n",
    "df = pd.DataFrame(values)"
   ]
  },
  {
   "cell_type": "code",
   "execution_count": null,
   "metadata": {
    "collapsed": true
   },
   "outputs": [],
   "source": [
    "\"\"\"Shot Zones\"\"\"\n",
    "\n",
    "name = 'Manchester_United'\n",
    "\n",
    "values = []\n",
    "driver.get('https://understat.com/team/'+name+'/2018')\n",
    "driver.find_element_by_xpath(\"//label[@for='statistic-5']\").click()\n",
    "baseTable = driver.find_element_by_id('team-statistics')\n",
    "tableRows = baseTable.find_elements_by_tag_name('tr')\n",
    "for item in range(0,len(tableRows)):\n",
    "    row = tableRows[item].find_elements_by_tag_name('td')\n",
    "    values.append([row[i].text for i in range(0,len(row))])\n",
    "df = pd.DataFrame(values)"
   ]
  },
  {
   "cell_type": "code",
   "execution_count": 18,
   "metadata": {
    "ExecuteTime": {
     "end_time": "2019-03-30T17:54:09.436911Z",
     "start_time": "2019-03-30T17:53:55.304867Z"
    },
    "collapsed": true
   },
   "outputs": [],
   "source": [
    "\"\"\"Attack speed\"\"\"\n",
    "\n",
    "name = 'Manchester_United'\n",
    "\n",
    "values = []\n",
    "driver.get('https://understat.com/team/'+name+'/2018')\n",
    "driver.find_element_by_xpath(\"//label[@for='statistic-6']\").click()\n",
    "baseTable = driver.find_element_by_id('team-statistics')\n",
    "tableRows = baseTable.find_elements_by_tag_name('tr')\n",
    "for item in range(0,len(tableRows)):\n",
    "    row = tableRows[item].find_elements_by_tag_name('td')\n",
    "    values.append([row[i].text for i in range(0,len(row))])\n",
    "df = pd.DataFrame(values)"
   ]
  },
  {
   "cell_type": "code",
   "execution_count": null,
   "metadata": {
    "collapsed": true
   },
   "outputs": [],
   "source": [
    "\"\"\"Result\"\"\"\n",
    "\n",
    "name = 'Manchester_United'\n",
    "\n",
    "values = []\n",
    "driver.get('https://understat.com/team/'+name+'/2018')\n",
    "driver.find_element_by_xpath(\"//label[@for='statistic-3']\").click()\n",
    "baseTable = driver.find_element_by_id('team-statistics')\n",
    "tableRows = baseTable.find_elements_by_tag_name('tr')\n",
    "for item in range(0,len(tableRows)):\n",
    "    row = tableRows[item].find_elements_by_tag_name('td')\n",
    "    values.append([row[i].text for i in range(0,len(row))])\n",
    "df = pd.DataFrame(values)"
   ]
  }
 ],
 "metadata": {
  "kernelspec": {
   "display_name": "Python 3",
   "language": "python",
   "name": "python3"
  }
 },
 "nbformat": 4,
 "nbformat_minor": 2
}
