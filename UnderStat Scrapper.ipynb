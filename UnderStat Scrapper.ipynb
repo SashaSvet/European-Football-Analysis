{
 "cells": [
  {
   "cell_type": "code",
   "execution_count": 1,
   "metadata": {
    "ExecuteTime": {
     "end_time": "2019-03-05T10:04:53.672621Z",
     "start_time": "2019-03-05T10:04:53.280989Z"
    },
    "collapsed": true
   },
   "outputs": [],
   "source": [
    "import pandas as pd\n",
    "from selenium import webdriver\n",
    "from selenium.webdriver.common.keys import Keys\n",
    "import re"
   ]
  },
  {
   "cell_type": "code",
   "execution_count": null,
   "metadata": {
    "ExecuteTime": {
     "end_time": "2019-03-05T10:09:34.855175Z",
     "start_time": "2019-03-05T10:09:29.701750Z"
    }
   },
   "outputs": [],
   "source": [
    "driver = webdriver.Chrome(r\"C:/chromedriver_win32/chromedriver.exe\")\n",
    "driver.get('https://understat.com/team/Manchester_United/2018')\n",
    "\"\"\"-----------------------------\"\"\"\n",
    "baseTable = driver.find_element_by_id('team-players')\n",
    "tableRows = baseTable.find_elements_by_tag_name('tr')\n",
    "\"\"\"------------------------------\"\"\"\n",
    "list = []\n",
    "data =[]\n",
    "for i in range(0,len(tableRows)):\n",
    "    list.append(tableRows[i].text)\n",
    "    data.append(list[i].split(' '))"
   ]
  },
  {
   "cell_type": "code",
   "execution_count": 14,
   "metadata": {
    "ExecuteTime": {
     "end_time": "2019-03-05T10:08:22.256340Z",
     "start_time": "2019-03-05T10:08:22.250324Z"
    }
   },
   "outputs": [],
   "source": [
    "data = pd.DataFrame(data[1:],columns=['index',\"Name\",\"Surname\" ,\"Position\", \"Apps\", \"Min\", \"Goals_Scored\"\n",
    "            , \"Assists\", \"Sh90\", \"KP90\", \"xG\", \"xA\"\n",
    "            , \"xG90\", \"xA90\",'none','non1'])"
   ]
  },
  {
   "cell_type": "code",
   "execution_count": 43,
   "metadata": {
    "ExecuteTime": {
     "end_time": "2019-03-05T09:02:33.197350Z",
     "start_time": "2019-03-05T09:02:32.795320Z"
    }
   },
   "outputs": [],
   "source": [
    "    \n",
    "    data.append([name,Position,Apps,Min,Goals,Assists,Sh90,KP90,xG,xA,xg90,xA90])\n",
    "df = pd.DataFrame(data,columns=[\"Name\", \"Position\", \"Apps\", \"Min\", \"Goals_Scored\"\n",
    "            , \"Assists\", \"Sh90\", \"KP90\", \"xG\", \"xA\"\n",
    "            , \"xG90\", \"xA90\"])"
   ]
  },
  {
   "cell_type": "code",
   "execution_count": 44,
   "metadata": {
    "ExecuteTime": {
     "end_time": "2019-03-05T09:02:34.530267Z",
     "start_time": "2019-03-05T09:02:34.517316Z"
    }
   },
   "outputs": [
    {
     "data": {
      "text/html": [
       "<div>\n",
       "<style scoped>\n",
       "    .dataframe tbody tr th:only-of-type {\n",
       "        vertical-align: middle;\n",
       "    }\n",
       "\n",
       "    .dataframe tbody tr th {\n",
       "        vertical-align: top;\n",
       "    }\n",
       "\n",
       "    .dataframe thead th {\n",
       "        text-align: right;\n",
       "    }\n",
       "</style>\n",
       "<table border=\"1\" class=\"dataframe\">\n",
       "  <thead>\n",
       "    <tr style=\"text-align: right;\">\n",
       "      <th></th>\n",
       "      <th>Name</th>\n",
       "      <th>Position</th>\n",
       "      <th>Apps</th>\n",
       "      <th>Min</th>\n",
       "      <th>Goals_Scored</th>\n",
       "      <th>Assists</th>\n",
       "      <th>Sh90</th>\n",
       "      <th>KP90</th>\n",
       "      <th>xG</th>\n",
       "      <th>xA</th>\n",
       "      <th>xG90</th>\n",
       "      <th>xA90</th>\n",
       "    </tr>\n",
       "  </thead>\n",
       "  <tbody>\n",
       "    <tr>\n",
       "      <th>0</th>\n",
       "      <td>Romelu Lukaku</td>\n",
       "      <td>F</td>\n",
       "      <td>26</td>\n",
       "      <td>1678</td>\n",
       "      <td>12</td>\n",
       "      <td>0</td>\n",
       "      <td>2.47</td>\n",
       "      <td>0.91</td>\n",
       "      <td>10.01-1.99</td>\n",
       "      <td>1.68+1.68</td>\n",
       "      <td>0.54</td>\n",
       "      <td>0.09</td>\n",
       "    </tr>\n",
       "  </tbody>\n",
       "</table>\n",
       "</div>"
      ],
      "text/plain": [
       "            Name Position Apps   Min Goals_Scored Assists  Sh90  KP90  \\\n",
       "0  Romelu Lukaku        F   26  1678           12       0  2.47  0.91   \n",
       "\n",
       "           xG         xA  xG90  xA90  \n",
       "0  10.01-1.99  1.68+1.68  0.54  0.09  "
      ]
     },
     "execution_count": 44,
     "metadata": {},
     "output_type": "execute_result"
    }
   ],
   "source": [
    "df"
   ]
  }
 ],
 "metadata": {
  "kernelspec": {
   "display_name": "Python 3",
   "language": "python",
   "name": "python3"
  },
  "language_info": {
   "codemirror_mode": {
    "name": "ipython",
    "version": 3
   },
   "file_extension": ".py",
   "mimetype": "text/x-python",
   "name": "python",
   "nbconvert_exporter": "python",
   "pygments_lexer": "ipython3",
   "version": "3.6.3"
  }
 },
 "nbformat": 4,
 "nbformat_minor": 2
}
