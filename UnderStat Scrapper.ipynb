{
 "cells": [
  {
   "cell_type": "code",
   "execution_count": 57,
   "metadata": {
    "ExecuteTime": {
     "end_time": "2019-03-06T15:40:18.648533Z",
     "start_time": "2019-03-06T15:40:18.632589Z"
    },
    "collapsed": true
   },
   "outputs": [],
   "source": [
    "import pandas as pd\n",
    "import matplotlib.pyplot as plt\n",
    "from selenium import webdriver\n",
    "from selenium.webdriver.common.keys import Keys\n",
    "import re\n",
    "import numpy as np \n",
    "import glob \n",
    "import warnings \n",
    "from scipy.stats import norm\n",
    "from IPython.display import display, HTML\n",
    "import scipy\n",
    "warnings.filterwarnings(\"ignore\")\n",
    "%matplotlib inline\n",
    "import seaborn as sns\n",
    "pd.options.display.float_format = '{:.2f}'.format\n",
    "sns.set()"
   ]
  },
  {
   "cell_type": "code",
   "execution_count": 2,
   "metadata": {
    "ExecuteTime": {
     "end_time": "2019-03-06T14:45:33.039088Z",
     "start_time": "2019-03-06T14:45:33.034103Z"
    }
   },
   "outputs": [],
   "source": [
    "epl_teams =['Manchester_City','Liverpool','Tottenham','Manchester_United','Arsenal',\n",
    "            'Chelsea','Wolverhampton_Wanderers','Watford',\n",
    "            'West_Ham','Everton','Leicester','Bournemouth',\n",
    "           'Crystal_Palace','Newcastle_United','Brighton','Burnley',\n",
    "           'Southampton','Cardiff','Fulham','Huddersfield']"
   ]
  },
  {
   "cell_type": "code",
   "execution_count": 5,
   "metadata": {
    "ExecuteTime": {
     "end_time": "2019-03-06T14:54:42.761175Z",
     "start_time": "2019-03-06T14:52:43.830734Z"
    },
    "scrolled": true
   },
   "outputs": [
    {
     "name": "stdout",
     "output_type": "stream",
     "text": [
      "Manchester_City\n",
      "Liverpool\n",
      "Tottenham\n",
      "Manchester_United\n",
      "Arsenal\n",
      "Chelsea\n",
      "Wolverhampton_Wanderers\n",
      "Watford\n",
      "West_Ham\n",
      "Everton\n",
      "Leicester\n",
      "Bournemouth\n",
      "Crystal_Palace\n",
      "Newcastle_United\n",
      "Brighton\n",
      "Burnley\n",
      "Southampton\n",
      "Cardiff\n",
      "Fulham\n",
      "Huddersfield\n"
     ]
    }
   ],
   "source": [
    "data = []\n",
    "driver = webdriver.Chrome(r\"C:/chromedriver_win32/chromedriver.exe\")\n",
    "for i in epl_teams:\n",
    "    \n",
    "    driver.get('https://understat.com/team/'+i+'/2018')\n",
    "\n",
    "    baseTable = driver.find_element_by_id('team-players')\n",
    "    tableRows = baseTable.find_elements_by_tag_name('tr')\n",
    "    print(i)\n",
    "    for item in range(1,len(tableRows)):\n",
    "        row = tableRows[item].find_elements_by_tag_name('td')\n",
    "        Team = i\n",
    "        name = row[1].text\n",
    "        pos = row[2].text\n",
    "        apps = row[3].text\n",
    "        Min = row[4].text\n",
    "        goals = row[5].text\n",
    "        assists = row[6].text\n",
    "        sh90 = row[7].text\n",
    "        kp90 = row[8].text\n",
    "        xg = row[9].text\n",
    "        xa = row[10].text\n",
    "        xg90 = row[11].text\n",
    "        xa90 = row[12].text\n",
    "        data.append([Team,name,pos,apps,Min,goals,assists,sh90,kp90,xg,xa,xg90,xa90])\n",
    "\n",
    "\n",
    "    \n",
    "df = pd.DataFrame(data)\n",
    "df = df.rename(columns={0:'Team',1:\"Name\",2: \"Position\",3: \"Apps\", 4:\"Min\", 5:\"Goals_Scored\"\n",
    "                , 6:\"Assists\",7: \"Sh90\",8: \"KP90\",9: \"xG\",10: \"xA\"\n",
    "                , 11:\"xG90\",12: \"xA90\"})"
   ]
  },
  {
   "cell_type": "code",
   "execution_count": 6,
   "metadata": {
    "ExecuteTime": {
     "end_time": "2019-03-06T14:54:48.876693Z",
     "start_time": "2019-03-06T14:54:48.860744Z"
    }
   },
   "outputs": [
    {
     "data": {
      "text/html": [
       "<div>\n",
       "<style scoped>\n",
       "    .dataframe tbody tr th:only-of-type {\n",
       "        vertical-align: middle;\n",
       "    }\n",
       "\n",
       "    .dataframe tbody tr th {\n",
       "        vertical-align: top;\n",
       "    }\n",
       "\n",
       "    .dataframe thead th {\n",
       "        text-align: right;\n",
       "    }\n",
       "</style>\n",
       "<table border=\"1\" class=\"dataframe\">\n",
       "  <thead>\n",
       "    <tr style=\"text-align: right;\">\n",
       "      <th></th>\n",
       "      <th>Team</th>\n",
       "      <th>Name</th>\n",
       "      <th>Position</th>\n",
       "      <th>Apps</th>\n",
       "      <th>Min</th>\n",
       "      <th>Goals_Scored</th>\n",
       "      <th>Assists</th>\n",
       "      <th>Sh90</th>\n",
       "      <th>KP90</th>\n",
       "      <th>xG</th>\n",
       "      <th>xA</th>\n",
       "      <th>xG90</th>\n",
       "      <th>xA90</th>\n",
       "    </tr>\n",
       "  </thead>\n",
       "  <tbody>\n",
       "    <tr>\n",
       "      <th>0</th>\n",
       "      <td>Manchester_City</td>\n",
       "      <td>Sergio Agüero</td>\n",
       "      <td>F</td>\n",
       "      <td>25</td>\n",
       "      <td>1879</td>\n",
       "      <td>18</td>\n",
       "      <td>6</td>\n",
       "      <td>4.41</td>\n",
       "      <td>1.20</td>\n",
       "      <td>17.10-0.90</td>\n",
       "      <td>3.78-2.22</td>\n",
       "      <td>0.82</td>\n",
       "      <td>0.18</td>\n",
       "    </tr>\n",
       "    <tr>\n",
       "      <th>1</th>\n",
       "      <td>Manchester_City</td>\n",
       "      <td>Raheem Sterling</td>\n",
       "      <td>F M</td>\n",
       "      <td>26</td>\n",
       "      <td>2093</td>\n",
       "      <td>12</td>\n",
       "      <td>8</td>\n",
       "      <td>2.24</td>\n",
       "      <td>2.24</td>\n",
       "      <td>11.25-0.75</td>\n",
       "      <td>9.12+1.12</td>\n",
       "      <td>0.48</td>\n",
       "      <td>0.39</td>\n",
       "    </tr>\n",
       "    <tr>\n",
       "      <th>2</th>\n",
       "      <td>Manchester_City</td>\n",
       "      <td>Leroy Sané</td>\n",
       "      <td>F</td>\n",
       "      <td>24</td>\n",
       "      <td>1506</td>\n",
       "      <td>8</td>\n",
       "      <td>9</td>\n",
       "      <td>2.51</td>\n",
       "      <td>2.03</td>\n",
       "      <td>6.00-2.00</td>\n",
       "      <td>6.91-2.09</td>\n",
       "      <td>0.36</td>\n",
       "      <td>0.41</td>\n",
       "    </tr>\n",
       "    <tr>\n",
       "      <th>3</th>\n",
       "      <td>Manchester_City</td>\n",
       "      <td>David Silva</td>\n",
       "      <td>M</td>\n",
       "      <td>25</td>\n",
       "      <td>1826</td>\n",
       "      <td>6</td>\n",
       "      <td>5</td>\n",
       "      <td>2.17</td>\n",
       "      <td>2.76</td>\n",
       "      <td>7.48+1.48</td>\n",
       "      <td>7.90+2.90</td>\n",
       "      <td>0.37</td>\n",
       "      <td>0.39</td>\n",
       "    </tr>\n",
       "    <tr>\n",
       "      <th>4</th>\n",
       "      <td>Manchester_City</td>\n",
       "      <td>Riyad Mahrez</td>\n",
       "      <td>F M</td>\n",
       "      <td>23</td>\n",
       "      <td>1062</td>\n",
       "      <td>6</td>\n",
       "      <td>2</td>\n",
       "      <td>3.73</td>\n",
       "      <td>1.44</td>\n",
       "      <td>6.21+0.21</td>\n",
       "      <td>2.51+0.51</td>\n",
       "      <td>0.53</td>\n",
       "      <td>0.21</td>\n",
       "    </tr>\n",
       "  </tbody>\n",
       "</table>\n",
       "</div>"
      ],
      "text/plain": [
       "              Team             Name Position Apps   Min Goals_Scored Assists  \\\n",
       "0  Manchester_City    Sergio Agüero        F   25  1879           18       6   \n",
       "1  Manchester_City  Raheem Sterling      F M   26  2093           12       8   \n",
       "2  Manchester_City       Leroy Sané        F   24  1506            8       9   \n",
       "3  Manchester_City      David Silva        M   25  1826            6       5   \n",
       "4  Manchester_City     Riyad Mahrez      F M   23  1062            6       2   \n",
       "\n",
       "   Sh90  KP90          xG         xA  xG90  xA90  \n",
       "0  4.41  1.20  17.10-0.90  3.78-2.22  0.82  0.18  \n",
       "1  2.24  2.24  11.25-0.75  9.12+1.12  0.48  0.39  \n",
       "2  2.51  2.03   6.00-2.00  6.91-2.09  0.36  0.41  \n",
       "3  2.17  2.76   7.48+1.48  7.90+2.90  0.37  0.39  \n",
       "4  3.73  1.44   6.21+0.21  2.51+0.51  0.53  0.21  "
      ]
     },
     "execution_count": 6,
     "metadata": {},
     "output_type": "execute_result"
    }
   ],
   "source": [
    "df.head()"
   ]
  },
  {
   "cell_type": "code",
   "execution_count": 47,
   "metadata": {
    "ExecuteTime": {
     "end_time": "2019-03-06T15:36:23.426688Z",
     "start_time": "2019-03-06T15:36:23.420704Z"
    },
    "collapsed": true
   },
   "outputs": [],
   "source": [
    "df['Goals_Scored'] = pd.to_numeric(df['Goals_Scored'])\n",
    "df['Sh90'] = pd.to_numeric(df['Sh90'])\n",
    "df['Apps'] = pd.to_numeric(df['Apps'])"
   ]
  },
  {
   "cell_type": "code",
   "execution_count": 49,
   "metadata": {
    "ExecuteTime": {
     "end_time": "2019-03-06T15:36:40.792798Z",
     "start_time": "2019-03-06T15:36:40.785785Z"
    }
   },
   "outputs": [],
   "source": [
    "len(df.loc[21]['Name'])\n",
    "df_teams = df[df.Name =='']\n",
    "\n",
    "df_players = df[df.Name != '']"
   ]
  },
  {
   "cell_type": "code",
   "execution_count": 50,
   "metadata": {
    "ExecuteTime": {
     "end_time": "2019-03-06T15:36:42.571972Z",
     "start_time": "2019-03-06T15:36:42.540061Z"
    }
   },
   "outputs": [],
   "source": [
    "\n",
    "\n",
    "data = df_players[(df_players.Apps > 10) & (df_players['Position'].isin(['F', 'F M']))]"
   ]
  },
  {
   "cell_type": "code",
   "execution_count": 53,
   "metadata": {
    "ExecuteTime": {
     "end_time": "2019-03-06T15:37:25.519206Z",
     "start_time": "2019-03-06T15:37:25.508237Z"
    }
   },
   "outputs": [
    {
     "data": {
      "text/html": [
       "<div>\n",
       "<style scoped>\n",
       "    .dataframe tbody tr th:only-of-type {\n",
       "        vertical-align: middle;\n",
       "    }\n",
       "\n",
       "    .dataframe tbody tr th {\n",
       "        vertical-align: top;\n",
       "    }\n",
       "\n",
       "    .dataframe thead th {\n",
       "        text-align: right;\n",
       "    }\n",
       "</style>\n",
       "<table border=\"1\" class=\"dataframe\">\n",
       "  <thead>\n",
       "    <tr style=\"text-align: right;\">\n",
       "      <th></th>\n",
       "      <th>Team</th>\n",
       "      <th>Name</th>\n",
       "      <th>Position</th>\n",
       "      <th>Apps</th>\n",
       "      <th>Min</th>\n",
       "      <th>Goals_Scored</th>\n",
       "      <th>Assists</th>\n",
       "      <th>Sh90</th>\n",
       "      <th>KP90</th>\n",
       "      <th>xG</th>\n",
       "      <th>xA</th>\n",
       "      <th>xG90</th>\n",
       "      <th>xA90</th>\n",
       "    </tr>\n",
       "  </thead>\n",
       "  <tbody>\n",
       "  </tbody>\n",
       "</table>\n",
       "</div>"
      ],
      "text/plain": [
       "Empty DataFrame\n",
       "Columns: [Team, Name, Position, Apps, Min, Goals_Scored, Assists, Sh90, KP90, xG, xA, xG90, xA90]\n",
       "Index: []"
      ]
     },
     "execution_count": 53,
     "metadata": {},
     "output_type": "execute_result"
    }
   ],
   "source": [
    "data[data.Sh90 > 6]"
   ]
  },
  {
   "cell_type": "code",
   "execution_count": 44,
   "metadata": {
    "ExecuteTime": {
     "end_time": "2019-03-06T15:34:03.047211Z",
     "start_time": "2019-03-06T15:34:03.042202Z"
    }
   },
   "outputs": [
    {
     "data": {
      "text/plain": [
       "array(['F', 'F M', 'M', 'D', 'D M', 'GK', 'S', 'D F M'], dtype=object)"
      ]
     },
     "execution_count": 44,
     "metadata": {},
     "output_type": "execute_result"
    }
   ],
   "source": [
    "df_players['Position'].unique()"
   ]
  },
  {
   "cell_type": "code",
   "execution_count": 58,
   "metadata": {
    "ExecuteTime": {
     "end_time": "2019-03-06T15:40:24.748682Z",
     "start_time": "2019-03-06T15:40:24.592495Z"
    }
   },
   "outputs": [
    {
     "data": {
      "text/plain": [
       "<matplotlib.axes._subplots.AxesSubplot at 0x191ceddceb8>"
      ]
     },
     "execution_count": 58,
     "metadata": {},
     "output_type": "execute_result"
    },
    {
     "data": {
      "image/png": "[encoded data removed]",
      "text/plain": [
       "<Figure size 576x360 with 1 Axes>"
      ]
     },
     "metadata": {},
     "output_type": "display_data"
    }
   ],
   "source": [
    "plt.figure(figsize=(8,5))\n",
    "sns.scatterplot(data=data,x=data['Sh90'],y =data['Goals_Scored'])"
   ]
  }
 ],
 "metadata": {
  "kernelspec": {
   "display_name": "Python 3",
   "language": "python",
   "name": "python3"
  },
  "language_info": {
   "codemirror_mode": {
    "name": "ipython",
    "version": 3
   },
   "file_extension": ".py",
   "mimetype": "text/x-python",
   "name": "python",
   "nbconvert_exporter": "python",
   "pygments_lexer": "ipython3",
   "version": "3.6.3"
  }
 },
 "nbformat": 4,
 "nbformat_minor": 2
}
