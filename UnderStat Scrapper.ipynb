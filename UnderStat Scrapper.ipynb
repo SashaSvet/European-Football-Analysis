{
 "cells": [
  {
   "cell_type": "code",
   "execution_count": 1,
   "metadata": {
    "ExecuteTime": {
     "end_time": "2019-03-05T16:16:51.297837Z",
     "start_time": "2019-03-05T16:16:50.911868Z"
    },
    "collapsed": true
   },
   "outputs": [],
   "source": [
    "import pandas as pd\n",
    "from selenium import webdriver\n",
    "from selenium.webdriver.common.keys import Keys\n",
    "import re"
   ]
  },
  {
   "cell_type": "code",
   "execution_count": 12,
   "metadata": {
    "ExecuteTime": {
     "end_time": "2019-03-05T16:32:47.250414Z",
     "start_time": "2019-03-05T16:32:38.002587Z"
    }
   },
   "outputs": [
    {
     "data": {
      "text/plain": [
       "'------------------------------'"
      ]
     },
     "execution_count": 12,
     "metadata": {},
     "output_type": "execute_result"
    }
   ],
   "source": [
    "driver = webdriver.Chrome(r\"C:/chromedriver_win32/chromedriver.exe\")\n",
    "driver.get('https://understat.com/team/Manchester_United/2018')\n",
    "\n",
    "\n",
    "\"\"\"-----------------------------\"\"\"\n",
    "baseTable = driver.find_element_by_id('team-players')\n",
    "tableRows = baseTable.find_elements_by_tag_name('tr')\n",
    "data = []\n",
    "for item in range(1,len(tableRows)):\n",
    "    row = tableRows[item].find_elements_by_tag_name('td')\n",
    "    name = row[1].text\n",
    "    pos = row[2].text\n",
    "    apps = row[3].text\n",
    "    Min = row[4].text\n",
    "    goals = row[5].text\n",
    "    assists = row[6].text\n",
    "    sh90 = row[7].text\n",
    "    kp90 = row[8].text\n",
    "    xg = row[9].text\n",
    "    xa = row[10].text\n",
    "    xg90 = row[11].text\n",
    "    xa90 = row[12].text\n",
    "    data.append([name,pos,apps,Min,goals,assists,sh90,kp90,xg,xa,xg90,xa90])\n",
    "\n",
    "df = pd.DataFrame(data,columns=[\"Name\", \"Position\", \"Apps\", \"Min\", \"Goals_Scored\"\n",
    "            , \"Assists\", \"Sh90\", \"KP90\", \"xG\", \"xA\"\n",
    "            , \"xG90\", \"xA90\"])    \n",
    "\"\"\"------------------------------\"\"\""
   ]
  },
  {
   "cell_type": "code",
   "execution_count": 17,
   "metadata": {
    "ExecuteTime": {
     "end_time": "2019-03-05T16:39:36.338166Z",
     "start_time": "2019-03-05T16:39:36.317233Z"
    }
   },
   "outputs": [
    {
     "data": {
      "text/html": [
       "<div>\n",
       "<style scoped>\n",
       "    .dataframe tbody tr th:only-of-type {\n",
       "        vertical-align: middle;\n",
       "    }\n",
       "\n",
       "    .dataframe tbody tr th {\n",
       "        vertical-align: top;\n",
       "    }\n",
       "\n",
       "    .dataframe thead th {\n",
       "        text-align: right;\n",
       "    }\n",
       "</style>\n",
       "<table border=\"1\" class=\"dataframe\">\n",
       "  <thead>\n",
       "    <tr style=\"text-align: right;\">\n",
       "      <th></th>\n",
       "      <th>Name</th>\n",
       "      <th>Position</th>\n",
       "      <th>Apps</th>\n",
       "      <th>Min</th>\n",
       "      <th>Goals_Scored</th>\n",
       "      <th>Assists</th>\n",
       "      <th>Sh90</th>\n",
       "      <th>KP90</th>\n",
       "      <th>xG</th>\n",
       "      <th>xA</th>\n",
       "      <th>xG90</th>\n",
       "      <th>xA90</th>\n",
       "    </tr>\n",
       "  </thead>\n",
       "  <tbody>\n",
       "    <tr>\n",
       "      <th>0</th>\n",
       "      <td>Romelu Lukaku</td>\n",
       "      <td>F</td>\n",
       "      <td>26</td>\n",
       "      <td>1678</td>\n",
       "      <td>12</td>\n",
       "      <td>0</td>\n",
       "      <td>2.47</td>\n",
       "      <td>0.91</td>\n",
       "      <td>10.01-1.99</td>\n",
       "      <td>1.68+1.68</td>\n",
       "      <td>0.54</td>\n",
       "      <td>0.09</td>\n",
       "    </tr>\n",
       "    <tr>\n",
       "      <th>1</th>\n",
       "      <td>Paul Pogba</td>\n",
       "      <td>M</td>\n",
       "      <td>26</td>\n",
       "      <td>2203</td>\n",
       "      <td>11</td>\n",
       "      <td>9</td>\n",
       "      <td>3.47</td>\n",
       "      <td>1.59</td>\n",
       "      <td>13.28+2.28</td>\n",
       "      <td>4.04-4.96</td>\n",
       "      <td>0.54</td>\n",
       "      <td>0.16</td>\n",
       "    </tr>\n",
       "    <tr>\n",
       "      <th>2</th>\n",
       "      <td>Anthony Martial</td>\n",
       "      <td>F M</td>\n",
       "      <td>20</td>\n",
       "      <td>1293</td>\n",
       "      <td>9</td>\n",
       "      <td>2</td>\n",
       "      <td>2.09</td>\n",
       "      <td>2.09</td>\n",
       "      <td>5.49-3.51</td>\n",
       "      <td>2.99+0.99</td>\n",
       "      <td>0.38</td>\n",
       "      <td>0.21</td>\n",
       "    </tr>\n",
       "    <tr>\n",
       "      <th>3</th>\n",
       "      <td>Marcus Rashford</td>\n",
       "      <td>F M</td>\n",
       "      <td>25</td>\n",
       "      <td>1730</td>\n",
       "      <td>9</td>\n",
       "      <td>6</td>\n",
       "      <td>3.17</td>\n",
       "      <td>1.25</td>\n",
       "      <td>9.09+0.09</td>\n",
       "      <td>3.29-2.71</td>\n",
       "      <td>0.47</td>\n",
       "      <td>0.17</td>\n",
       "    </tr>\n",
       "    <tr>\n",
       "      <th>4</th>\n",
       "      <td>Jesse Lingard</td>\n",
       "      <td>F M</td>\n",
       "      <td>22</td>\n",
       "      <td>1297</td>\n",
       "      <td>4</td>\n",
       "      <td>2</td>\n",
       "      <td>1.73</td>\n",
       "      <td>0.90</td>\n",
       "      <td>4.06+0.06</td>\n",
       "      <td>2.27+0.27</td>\n",
       "      <td>0.28</td>\n",
       "      <td>0.16</td>\n",
       "    </tr>\n",
       "  </tbody>\n",
       "</table>\n",
       "</div>"
      ],
      "text/plain": [
       "              Name Position Apps   Min Goals_Scored Assists  Sh90  KP90  \\\n",
       "0    Romelu Lukaku        F   26  1678           12       0  2.47  0.91   \n",
       "1       Paul Pogba        M   26  2203           11       9  3.47  1.59   \n",
       "2  Anthony Martial      F M   20  1293            9       2  2.09  2.09   \n",
       "3  Marcus Rashford      F M   25  1730            9       6  3.17  1.25   \n",
       "4    Jesse Lingard      F M   22  1297            4       2  1.73  0.90   \n",
       "\n",
       "           xG         xA  xG90  xA90  \n",
       "0  10.01-1.99  1.68+1.68  0.54  0.09  \n",
       "1  13.28+2.28  4.04-4.96  0.54  0.16  \n",
       "2   5.49-3.51  2.99+0.99  0.38  0.21  \n",
       "3   9.09+0.09  3.29-2.71  0.47  0.17  \n",
       "4   4.06+0.06  2.27+0.27  0.28  0.16  "
      ]
     },
     "execution_count": 17,
     "metadata": {},
     "output_type": "execute_result"
    }
   ],
   "source": [
    "df.head()"
   ]
  }
 ],
 "metadata": {
  "kernelspec": {
   "display_name": "Python 3",
   "language": "python",
   "name": "python3"
  },
  "language_info": {
   "codemirror_mode": {
    "name": "ipython",
    "version": 3
   },
   "file_extension": ".py",
   "mimetype": "text/x-python",
   "name": "python",
   "nbconvert_exporter": "python",
   "pygments_lexer": "ipython3",
   "version": "3.6.3"
  }
 },
 "nbformat": 4,
 "nbformat_minor": 2
}
