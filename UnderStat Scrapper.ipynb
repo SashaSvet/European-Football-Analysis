{
 "cells": [
  {
   "cell_type": "code",
   "execution_count": 1,
   "metadata": {
    "ExecuteTime": {
     "end_time": "2019-03-06T23:16:19.936329Z",
     "start_time": "2019-03-06T23:16:19.014720Z"
    },
    "collapsed": true
   },
   "outputs": [],
   "source": [
    "import pandas as pd\n",
    "import matplotlib.pyplot as plt\n",
    "from selenium import webdriver\n",
    "from selenium.webdriver.common.keys import Keys\n",
    "import re\n",
    "import numpy as np \n",
    "import glob \n",
    "import warnings \n",
    "from scipy.stats import norm\n",
    "from IPython.display import display, HTML\n",
    "import scipy\n",
    "warnings.filterwarnings(\"ignore\")\n",
    "%matplotlib inline\n",
    "import seaborn as sns\n",
    "pd.options.display.float_format = '{:.2f}'.format\n",
    "sns.set()"
   ]
  },
  {
   "cell_type": "code",
   "execution_count": 2,
   "metadata": {
    "ExecuteTime": {
     "end_time": "2019-03-06T23:16:19.950202Z",
     "start_time": "2019-03-06T23:16:19.940230Z"
    },
    "collapsed": true
   },
   "outputs": [],
   "source": [
    "leagues = ['EPL','La_Liga','Bundesliga','Serie_A','Ligue_1','RFPL']"
   ]
  },
  {
   "cell_type": "code",
   "execution_count": 3,
   "metadata": {
    "ExecuteTime": {
     "end_time": "2019-03-06T23:16:23.428850Z",
     "start_time": "2019-03-06T23:16:21.279573Z"
    },
    "collapsed": true
   },
   "outputs": [],
   "source": [
    "driver = webdriver.Chrome(r\"C:/chromedriver_win32/chromedriver.exe\")"
   ]
  },
  {
   "cell_type": "code",
   "execution_count": 4,
   "metadata": {
    "ExecuteTime": {
     "end_time": "2019-03-06T23:16:23.486568Z",
     "start_time": "2019-03-06T23:16:23.442682Z"
    }
   },
   "outputs": [],
   "source": [
    "def getTeamStats(leagues):\n",
    "    #Create the receiving dataFrame\n",
    "    dfOut= []\n",
    "    #Go through every league\n",
    "    for league in leagues:\n",
    "        #Establish Connection\n",
    "        driver.get('https://understat.com/league/'+league)\n",
    "        #Get the relevant object\n",
    "        base = driver.find_element_by_id('league-chemp')\n",
    "        #Get Rows\n",
    "        rows = base.find_elements_by_tag_name('tr')\n",
    "        #Create a list to receive values\n",
    "        values=[]\n",
    "        #Go through every row\n",
    "        for item in range(1,len(rows)):\n",
    "            #Get elements from the row\n",
    "            row = rows[item].find_elements_by_tag_name('td')\n",
    "            #Add those elements to the values list\n",
    "            values.append([row[i].text for i in range(1,len(row))])\n",
    "            #Go through every value and append it to the dataframe value by value\n",
    "            for j in range(0,len(values)):\n",
    "                dfOut.append([league,values[j][0],values[j][1],values[j][2],values[j][3],values[j][4],values[j][5],values[j][6],\n",
    "                             values[j][7],values[j][8],values[j][9],values[j][10]])\n",
    "    return dfOut\n",
    "\n",
    "#Run the function\n",
    "dfOut = getTeamStats(leagues=leagues)\n",
    "#Convert to dataframe\n",
    "dfOut = pd.DataFrame(dfOut,columns=['league','name','matches','wins','draws','losses','goals_for','goals_against','points','xG','xGA','xPTS'])\n",
    "#Drop duplicate rows created\n",
    "dfOut = dfOut.drop_duplicates()"
   ]
  },
  {
   "cell_type": "code",
   "execution_count": 3,
   "metadata": {
    "ExecuteTime": {
     "end_time": "2019-03-06T19:35:35.218005Z",
     "start_time": "2019-03-06T19:28:42.707763Z"
    },
    "scrolled": true
   },
   "outputs": [
    {
     "name": "stdout",
     "output_type": "stream",
     "text": [
      "Manchester_City\n",
      "Liverpool\n",
      "Tottenham\n",
      "Manchester_United\n",
      "Arsenal\n",
      "Chelsea\n",
      "Wolverhampton_Wanderers\n",
      "Watford\n",
      "West_Ham\n",
      "Everton\n",
      "Leicester\n",
      "Bournemouth\n",
      "Crystal_Palace\n",
      "Newcastle_United\n",
      "Brighton\n",
      "Burnley\n",
      "Southampton\n",
      "Cardiff\n",
      "Fulham\n",
      "Huddersfield\n",
      "Barcelona\n",
      "Atletico_Madrid\n",
      "Real_Madrid\n",
      "Getafe\n",
      "Alaves\n",
      "Sevilla\n",
      "Valencia\n",
      "Real_Betis\n",
      "Real_Sociedad\n",
      "Eibar\n",
      "Leganes\n",
      "Athletic_Club\n",
      "Espanyol\n",
      "Girona\n",
      "Levante\n",
      "Real_Valladolid\n",
      "Celta_Vigo\n",
      "Villarreal\n",
      "Rayo_Vallecano\n",
      "SD_Huesca\n"
     ]
    }
   ],
   "source": [
    "data = []\n",
    "driver = webdriver.Chrome(r\"C:/chromedriver_win32/chromedriver.exe\")\n",
    "\n",
    "for i in teams:\n",
    "    \n",
    "    driver.get('https://understat.com/team/'+i+'/2018')\n",
    "    print(i)\n",
    "    baseTable = driver.find_element_by_id('team-players')\n",
    "    tableRows = baseTable.find_elements_by_tag_name('tr')\n",
    "    for item in range(1,len(tableRows)):\n",
    "        row = tableRows[item].find_elements_by_tag_name('td')\n",
    "        Team = i\n",
    "        name = row[1].text\n",
    "        pos = row[2].text\n",
    "        apps = row[3].text\n",
    "        Min = row[4].text\n",
    "        goals = row[5].text\n",
    "        assists = row[6].text\n",
    "        sh90 = row[7].text\n",
    "        kp90 = row[8].text\n",
    "        xg = row[9].text\n",
    "        xa = row[10].text\n",
    "        xg90 = row[11].text\n",
    "        xa90 = row[12].text\n",
    "        data.append([Team,name,pos,apps,Min,goals,assists,sh90,kp90,xg,xa,xg90,xa90])\n",
    "\n",
    "\n",
    "    \n",
    "df = pd.DataFrame(data)\n",
    "df = df.rename(columns={0:'Team',1:\"Name\",2: \"Position\",3: \"Apps\", 4:\"Min\", 5:\"Goals_Scored\"\n",
    "                , 6:\"Assists\",7: \"Sh90\",8: \"KP90\",9: \"xG\",10: \"xA\"\n",
    "                , 11:\"xG90\",12: \"xA90\"})"
   ]
  },
  {
   "cell_type": "code",
   "execution_count": 15,
   "metadata": {
    "ExecuteTime": {
     "end_time": "2019-03-06T19:42:21.090820Z",
     "start_time": "2019-03-06T19:42:21.079700Z"
    },
    "collapsed": true
   },
   "outputs": [],
   "source": [
    "df['Goals_Scored'] = pd.to_numeric(df['Goals_Scored'])\n",
    "df['Sh90'] = pd.to_numeric(df['Sh90'])\n",
    "df['Apps'] = pd.to_numeric(df['Apps'])"
   ]
  },
  {
   "cell_type": "code",
   "execution_count": 16,
   "metadata": {
    "ExecuteTime": {
     "end_time": "2019-03-06T19:42:22.956485Z",
     "start_time": "2019-03-06T19:42:22.947126Z"
    },
    "collapsed": true
   },
   "outputs": [],
   "source": [
    "len(df.loc[21]['Name'])\n",
    "df_teams = df[df.Name =='']\n",
    "\n",
    "df_players = df[df.Name != '']"
   ]
  },
  {
   "cell_type": "code",
   "execution_count": 17,
   "metadata": {
    "ExecuteTime": {
     "end_time": "2019-03-06T19:42:25.030428Z",
     "start_time": "2019-03-06T19:42:25.022273Z"
    }
   },
   "outputs": [],
   "source": [
    "data = df_players[(df_players.Apps > 10) & (df_players['Position'].isin(['F', 'F M']))]"
   ]
  },
  {
   "cell_type": "code",
   "execution_count": 60,
   "metadata": {
    "ExecuteTime": {
     "end_time": "2019-03-06T15:44:08.984353Z",
     "start_time": "2019-03-06T15:44:08.968372Z"
    }
   },
   "outputs": [
    {
     "data": {
      "text/html": [
       "<div>\n",
       "<style scoped>\n",
       "    .dataframe tbody tr th:only-of-type {\n",
       "        vertical-align: middle;\n",
       "    }\n",
       "\n",
       "    .dataframe tbody tr th {\n",
       "        vertical-align: top;\n",
       "    }\n",
       "\n",
       "    .dataframe thead th {\n",
       "        text-align: right;\n",
       "    }\n",
       "</style>\n",
       "<table border=\"1\" class=\"dataframe\">\n",
       "  <thead>\n",
       "    <tr style=\"text-align: right;\">\n",
       "      <th></th>\n",
       "      <th>Team</th>\n",
       "      <th>Name</th>\n",
       "      <th>Position</th>\n",
       "      <th>Apps</th>\n",
       "      <th>Min</th>\n",
       "      <th>Goals_Scored</th>\n",
       "      <th>Assists</th>\n",
       "      <th>Sh90</th>\n",
       "      <th>KP90</th>\n",
       "      <th>xG</th>\n",
       "      <th>xA</th>\n",
       "      <th>xG90</th>\n",
       "      <th>xA90</th>\n",
       "    </tr>\n",
       "  </thead>\n",
       "  <tbody>\n",
       "    <tr>\n",
       "      <th>0</th>\n",
       "      <td>Manchester_City</td>\n",
       "      <td>Sergio Agüero</td>\n",
       "      <td>F</td>\n",
       "      <td>25.00</td>\n",
       "      <td>1879</td>\n",
       "      <td>18</td>\n",
       "      <td>6</td>\n",
       "      <td>4.41</td>\n",
       "      <td>1.20</td>\n",
       "      <td>17.10-0.90</td>\n",
       "      <td>3.78-2.22</td>\n",
       "      <td>0.82</td>\n",
       "      <td>0.18</td>\n",
       "    </tr>\n",
       "    <tr>\n",
       "      <th>1</th>\n",
       "      <td>Manchester_City</td>\n",
       "      <td>Raheem Sterling</td>\n",
       "      <td>F M</td>\n",
       "      <td>26.00</td>\n",
       "      <td>2093</td>\n",
       "      <td>12</td>\n",
       "      <td>8</td>\n",
       "      <td>2.24</td>\n",
       "      <td>2.24</td>\n",
       "      <td>11.25-0.75</td>\n",
       "      <td>9.12+1.12</td>\n",
       "      <td>0.48</td>\n",
       "      <td>0.39</td>\n",
       "    </tr>\n",
       "    <tr>\n",
       "      <th>2</th>\n",
       "      <td>Manchester_City</td>\n",
       "      <td>Leroy Sané</td>\n",
       "      <td>F</td>\n",
       "      <td>24.00</td>\n",
       "      <td>1506</td>\n",
       "      <td>8</td>\n",
       "      <td>9</td>\n",
       "      <td>2.51</td>\n",
       "      <td>2.03</td>\n",
       "      <td>6.00-2.00</td>\n",
       "      <td>6.91-2.09</td>\n",
       "      <td>0.36</td>\n",
       "      <td>0.41</td>\n",
       "    </tr>\n",
       "    <tr>\n",
       "      <th>4</th>\n",
       "      <td>Manchester_City</td>\n",
       "      <td>Riyad Mahrez</td>\n",
       "      <td>F M</td>\n",
       "      <td>23.00</td>\n",
       "      <td>1062</td>\n",
       "      <td>6</td>\n",
       "      <td>2</td>\n",
       "      <td>3.73</td>\n",
       "      <td>1.44</td>\n",
       "      <td>6.21+0.21</td>\n",
       "      <td>2.51+0.51</td>\n",
       "      <td>0.53</td>\n",
       "      <td>0.21</td>\n",
       "    </tr>\n",
       "    <tr>\n",
       "      <th>5</th>\n",
       "      <td>Manchester_City</td>\n",
       "      <td>Gabriel Jesus</td>\n",
       "      <td>F</td>\n",
       "      <td>22.00</td>\n",
       "      <td>822</td>\n",
       "      <td>6</td>\n",
       "      <td>2</td>\n",
       "      <td>3.83</td>\n",
       "      <td>1.86</td>\n",
       "      <td>8.98+2.98</td>\n",
       "      <td>2.54+0.54</td>\n",
       "      <td>0.98</td>\n",
       "      <td>0.28</td>\n",
       "    </tr>\n",
       "  </tbody>\n",
       "</table>\n",
       "</div>"
      ],
      "text/plain": [
       "              Team             Name Position  Apps   Min  Goals_Scored  \\\n",
       "0  Manchester_City    Sergio Agüero        F 25.00  1879            18   \n",
       "1  Manchester_City  Raheem Sterling      F M 26.00  2093            12   \n",
       "2  Manchester_City       Leroy Sané        F 24.00  1506             8   \n",
       "4  Manchester_City     Riyad Mahrez      F M 23.00  1062             6   \n",
       "5  Manchester_City    Gabriel Jesus        F 22.00   822             6   \n",
       "\n",
       "  Assists  Sh90  KP90          xG         xA  xG90  xA90  \n",
       "0       6  4.41  1.20  17.10-0.90  3.78-2.22  0.82  0.18  \n",
       "1       8  2.24  2.24  11.25-0.75  9.12+1.12  0.48  0.39  \n",
       "2       9  2.51  2.03   6.00-2.00  6.91-2.09  0.36  0.41  \n",
       "4       2  3.73  1.44   6.21+0.21  2.51+0.51  0.53  0.21  \n",
       "5       2  3.83  1.86   8.98+2.98  2.54+0.54  0.98  0.28  "
      ]
     },
     "execution_count": 60,
     "metadata": {},
     "output_type": "execute_result"
    }
   ],
   "source": [
    "data.head()"
   ]
  },
  {
   "cell_type": "code",
   "execution_count": 44,
   "metadata": {
    "ExecuteTime": {
     "end_time": "2019-03-06T15:34:03.047211Z",
     "start_time": "2019-03-06T15:34:03.042202Z"
    }
   },
   "outputs": [
    {
     "data": {
      "text/plain": [
       "array(['F', 'F M', 'M', 'D', 'D M', 'GK', 'S', 'D F M'], dtype=object)"
      ]
     },
     "execution_count": 44,
     "metadata": {},
     "output_type": "execute_result"
    }
   ],
   "source": [
    "df_players['Position'].unique()"
   ]
  },
  {
   "cell_type": "code",
   "execution_count": 24,
   "metadata": {
    "ExecuteTime": {
     "end_time": "2019-03-06T19:53:35.325834Z",
     "start_time": "2019-03-06T19:53:35.022720Z"
    }
   },
   "outputs": [
    {
     "data": {
      "text/plain": [
       "<matplotlib.axes._subplots.AxesSubplot at 0x160d1043f28>"
      ]
     },
     "execution_count": 24,
     "metadata": {},
     "output_type": "execute_result"
    },
    {
     "data": {
      "image/png": "[encoded data removed]",
      "text/plain": [
       "<Figure size 720x504 with 1 Axes>"
      ]
     },
     "metadata": {},
     "output_type": "display_data"
    }
   ],
   "source": [
    "plt.figure(figsize=(10,7))\n",
    "plt.title('Shots Conversion Rate')\n",
    "plt.ylabel('Shots Per 90 Minutes')\n",
    "plt.xlabel('Goals')\n",
    "sns.scatterplot(data=data,x=data['Sh90'],y =data['Goals_Scored'])"
   ]
  }
 ],
 "metadata": {
  "kernelspec": {
   "display_name": "Python 3",
   "language": "python",
   "name": "python3"
  },
  "language_info": {
   "codemirror_mode": {
    "name": "ipython",
    "version": 3
   },
   "file_extension": ".py",
   "mimetype": "text/x-python",
   "name": "python",
   "nbconvert_exporter": "python",
   "pygments_lexer": "ipython3",
   "version": "3.6.3"
  }
 },
 "nbformat": 4,
 "nbformat_minor": 2
}
