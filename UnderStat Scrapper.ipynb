{
 "cells": [
  {
   "cell_type": "code",
   "execution_count": 19,
   "metadata": {
    "ExecuteTime": {
     "end_time": "2019-03-30T17:55:37.168959Z",
     "start_time": "2019-03-30T17:55:37.128773Z"
    },
    "collapsed": true
   },
   "outputs": [],
   "source": [
    "import pandas as pd\n",
    "import matplotlib.pyplot as plt\n",
    "from selenium import webdriver\n",
    "from selenium.webdriver.common.keys import Keys\n",
    "import re\n",
    "import numpy as np \n",
    "import glob \n",
    "import warnings \n",
    "from scipy.stats import norm\n",
    "from IPython.display import display, HTML\n",
    "import scipy\n",
    "import os\n",
    "warnings.filterwarnings(\"ignore\")\n",
    "%matplotlib inline\n",
    "import seaborn as sns\n",
    "pd.options.display.float_format = '{:.2f}'.format\n",
    "sns.set()"
   ]
  },
  {
   "cell_type": "code",
   "execution_count": 20,
   "metadata": {
    "ExecuteTime": {
     "end_time": "2019-03-30T17:55:37.211499Z",
     "start_time": "2019-03-30T17:55:37.172539Z"
    },
    "collapsed": true
   },
   "outputs": [],
   "source": [
    "leagues = ['EPL','La_Liga','Bundesliga','Serie_A','Ligue_1','RFPL']\n",
    "\n",
    "path = r'C:\\Users\\user\\Desktop\\Kaggle\\Football stats analysis project\\Data\\UnderStat'"
   ]
  },
  {
   "cell_type": "code",
   "execution_count": 66,
   "metadata": {
    "ExecuteTime": {
     "end_time": "2019-03-30T20:14:08.213889Z",
     "start_time": "2019-03-30T20:14:06.081106Z"
    },
    "collapsed": true
   },
   "outputs": [],
   "source": [
    "driver = webdriver.Chrome(r\"C:/chromedriver_win32/chromedriver.exe\")"
   ]
  },
  {
   "cell_type": "code",
   "execution_count": 21,
   "metadata": {
    "ExecuteTime": {
     "end_time": "2019-03-30T17:57:11.480143Z",
     "start_time": "2019-03-30T17:55:39.332477Z"
    }
   },
   "outputs": [
    {
     "name": "stdout",
     "output_type": "stream",
     "text": [
      "Every league team stats crawled!\n"
     ]
    }
   ],
   "source": [
    "def getLeagueTeams(league):    \n",
    "    dfOut =[]\n",
    "    values=[]\n",
    "    #Establish Connection\n",
    "    driver.get('https://understat.com/league/'+league)\n",
    "    #Get the relevant object\n",
    "    base = driver.find_element_by_id('league-chemp')\n",
    "    #Get Rows\n",
    "    rows = base.find_elements_by_tag_name('tr')\n",
    "    for item in range(1,len(rows)):\n",
    "        #Get elements from the row\n",
    "        row = rows[item].find_elements_by_tag_name('td')\n",
    "        #Add those elements to the values list\n",
    "        values.append([row[i].text for i in range(1,len(row))])\n",
    "    dfOut = pd.DataFrame(values,columns=['team','matches','wins','draws','losses',\n",
    "                                             'goals_for','goals_against','points','xG','xGA','xPTS'])\n",
    "    return dfOut\n",
    "    \n",
    "def getLeagueStats(leagues):\n",
    "    #Go through every league\n",
    "    for league in leagues:\n",
    "        df = getLeagueTeams(league)\n",
    "        df['League'] = league\n",
    "        df.to_csv(path + '\\Team_Stats_%s'%league + '.csv')\n",
    "    return print('Every league team stats crawled!')\n",
    "\n",
    "getLeagueStats(leagues)    "
   ]
  },
  {
   "cell_type": "code",
   "execution_count": 6,
   "metadata": {
    "ExecuteTime": {
     "end_time": "2019-03-30T16:53:24.028436Z",
     "start_time": "2019-03-30T16:53:23.945357Z"
    },
    "collapsed": true
   },
   "outputs": [],
   "source": [
    "os.chdir(r'C:\\Users\\user\\Desktop\\Kaggle\\Football stats analysis project\\Data\\UnderStat')\n",
    "def loadData(path):\n",
    "    allFiles = glob.glob(path)\n",
    "    dfOut = pd.DataFrame()\n",
    "    list_ = []\n",
    "    for file_ in allFiles:\n",
    "        df = pd.read_csv(file_,index_col=0, header=0)\n",
    "        list_.append(df)\n",
    "    dfOut = pd.concat(list_)\n",
    "    return dfOut\n",
    "df = loadData('Team_Stats_*.csv')\n",
    "team_names = df['team'].values\n",
    "team_names = [i.replace(' ','_') for i in team_names]"
   ]
  },
  {
   "cell_type": "code",
   "execution_count": 22,
   "metadata": {
    "ExecuteTime": {
     "end_time": "2019-03-30T18:31:11.794853Z",
     "start_time": "2019-03-30T17:57:31.459577Z"
    },
    "scrolled": true
   },
   "outputs": [
    {
     "name": "stdout",
     "output_type": "stream",
     "text": [
      "Done\n"
     ]
    }
   ],
   "source": [
    "\"\"\"Function mines players stats Data\"\"\"\n",
    "def getPlayerStats(name):\n",
    "    values = []\n",
    "    driver.get('https://understat.com/team/'+name+'/2018')\n",
    "    baseTable = driver.find_element_by_id('team-players')\n",
    "    tableRows = baseTable.find_elements_by_tag_name('tr')\n",
    "    for item in range(1,len(tableRows)):\n",
    "        row = tableRows[item].find_elements_by_tag_name('td')\n",
    "        values.append([row[i].text for i in range(1,len(row))])\n",
    "    df = pd.DataFrame(values,columns=['Name','Position','Apps','Min','Goals_Scored','Assists','Sh90',\n",
    "                                     'KP90','xG','xA','xG90','xA90'])\n",
    "    return df \n",
    "\n",
    "\n",
    "def getTeamPlayersStats(team_names):\n",
    "    for name in team_names:\n",
    "        df = getPlayerStats(name)\n",
    "        df['Team'] = name\n",
    "        df.to_csv(path + '\\Player_Stats_%s'%name + '.csv')\n",
    "    return print('Done')\n",
    "\n",
    "getTeamPlayersStats(team_names)"
   ]
  },
  {
   "cell_type": "code",
   "execution_count": 68,
   "metadata": {
    "ExecuteTime": {
     "end_time": "2019-03-30T20:15:59.851072Z",
     "start_time": "2019-03-30T20:15:59.525821Z"
    },
    "collapsed": true
   },
   "outputs": [],
   "source": [
    "\"\"\"summary\"\"\"\n",
    "\n",
    "def teamSummaryStats(name):\n",
    "    values = []\n",
    "    driver.get('https://understat.com/team/'+name+'/2018')\n",
    "    baseTable = driver.find_element_by_id('team-statistics')\n",
    "    tableRows = baseTable.find_elements_by_tag_name('tr')\n",
    "    for item in range(1,len(tableRows)):\n",
    "        row = tableRows[item].find_elements_by_tag_name('td')\n",
    "        values.append([row[i].text for i in range(1,len(row))])\n",
    "    df = pd.DataFrame(values,columns =['Situation','Sh','G','ShA','GA','xG','xGA','xGD','xG/Sh','xGA/Sh'])\n",
    "    return df\n",
    "\n",
    "\"\"\"formation\"\"\"\n",
    "\n",
    "def teamFormationStats(name):\n",
    "    values = []\n",
    "    driver.get('https://understat.com/team/'+name+'/2018')\n",
    "    driver.find_element_by_xpath(\"//label[@for='statistic-2']\").click()\n",
    "    baseTable = driver.find_element_by_id('team-statistics')\n",
    "    tableRows = baseTable.find_elements_by_tag_name('tr')\n",
    "    for item in range(1,len(tableRows)):\n",
    "        row = tableRows[item].find_elements_by_tag_name('td')\n",
    "        values.append([row[i].text for i in range(1,len(row))])\n",
    "    df = pd.DataFrame(values,columns =['Formation','Min','Sh','G','ShA','GA','xG','xGA','xGD','xG90','xGA90'])\n",
    "    return df\n",
    "\n",
    "\"\"\"Game State\"\"\"\n",
    "\n",
    "\n",
    "def teamGameStats(name):\n",
    "    values = []\n",
    "    driver.get('https://understat.com/team/'+name+'/2018')\n",
    "    driver.find_element_by_xpath(\"//label[@for='statistic-3']\").click()\n",
    "    baseTable = driver.find_element_by_id('team-statistics')\n",
    "    tableRows = baseTable.find_elements_by_tag_name('tr')\n",
    "    for item in range(1,len(tableRows)):\n",
    "        row = tableRows[item].find_elements_by_tag_name('td')\n",
    "        values.append([row[i].text for i in range(1,len(row))])\n",
    "    df = pd.DataFrame(values,columns =['Game_state','Min','Sh','G','ShA','GA','xG','xGA','xGD','xG90','xGA90'])\n",
    "    return df\n",
    "\n",
    "\"\"\"Timing\"\"\"\n",
    "\n",
    "\n",
    "def teamTimingStats(name): \n",
    "    values = []\n",
    "    driver.get('https://understat.com/team/'+name+'/2018')\n",
    "    driver.find_element_by_xpath(\"//label[@for='statistic-4']\").click()\n",
    "    baseTable = driver.find_element_by_id('team-statistics')\n",
    "    tableRows = baseTable.find_elements_by_tag_name('tr')\n",
    "    for item in range(1,len(tableRows)):\n",
    "        row = tableRows[item].find_elements_by_tag_name('td')\n",
    "        values.append([row[i].text for i in range(1,len(row))])\n",
    "    df = pd.DataFrame(values,columns =['Timing','Sh','G','ShA','GA','xG','xGA','xGD','xG/Sh','xGA/Sh'])\n",
    "    return df\n",
    "\n",
    "\"\"\"Shot Zones\"\"\"\n",
    "\n",
    "def teamShotZonesStats(name):\n",
    "    values = []\n",
    "    driver.get('https://understat.com/team/'+name+'/2018')\n",
    "    driver.find_element_by_xpath(\"//label[@for='statistic-5']\").click()\n",
    "    baseTable = driver.find_element_by_id('team-statistics')\n",
    "    tableRows = baseTable.find_elements_by_tag_name('tr')\n",
    "    for item in range(1,len(tableRows)):\n",
    "        row = tableRows[item].find_elements_by_tag_name('td')\n",
    "        values.append([row[i].text for i in range(1,len(row))])\n",
    "    df = pd.DataFrame(values,columns =['Shot_zones','Sh','G','ShA','GA','xG','xGA','xGD','xG/Sh','xGA/Sh'])\n",
    "    return df\n",
    "\n",
    "\"\"\"Attack speed\"\"\"\n",
    "\n",
    "\n",
    "def teamAttackSpeedStats(name):\n",
    "    values = []\n",
    "    driver.get('https://understat.com/team/'+name+'/2018')\n",
    "    driver.find_element_by_xpath(\"//label[@for='statistic-6']\").click()\n",
    "    baseTable = driver.find_element_by_id('team-statistics')\n",
    "    tableRows = baseTable.find_elements_by_tag_name('tr')\n",
    "    for item in range(1,len(tableRows)):\n",
    "        row = tableRows[item].find_elements_by_tag_name('td')\n",
    "        values.append([row[i].text for i in range(1,len(row))])\n",
    "    df = pd.DataFrame(values,columns =['Attack_speed','Sh','G','ShA','GA','xG','xGA','xGD','xG/Sh','xGA/Sh'])\n",
    "    return df\n",
    "\n",
    "\"\"\"Result\"\"\"\n",
    "\n",
    "def teamFinalResultsStats(name):\n",
    "    values = []\n",
    "    driver.get('https://understat.com/team/'+name+'/2018')\n",
    "    driver.find_element_by_xpath(\"//label[@for='statistic-7']\").click()\n",
    "    baseTable = driver.find_element_by_id('team-statistics')\n",
    "    tableRows = baseTable.find_elements_by_tag_name('tr')\n",
    "    for item in range(1,len(tableRows)):\n",
    "        row = tableRows[item].find_elements_by_tag_name('td')\n",
    "        values.append([row[i].text for i in range(1,len(row))])\n",
    "    df = pd.DataFrame(values,columns =['Result','Sh','G','ShA','GA','xG','xGA','xGD','xG/Sh','xGA/Sh'])\n",
    "    return df\n"
   ]
  },
  {
   "cell_type": "code",
   "execution_count": null,
   "metadata": {
    "collapsed": true
   },
   "outputs": [],
   "source": [
    "def getTeamStats(team_names):\n",
    "    for name in team_names:\n",
    "        df_summary = teamSummaryStats(name)\n",
    "        df_summary['Team'] = name\n",
    "        df_formation = teamFormationStats(name)\n",
    "        df_formation['Team'] = name\n",
    "        df_gamestats = teamGameStats(name)\n",
    "        df_gamestats['Team'] = name\n",
    "        df_timing = teamTimingStats(name)\n",
    "        df_timing['Team'] = name\n",
    "        df_shotzones = teamShotZonesStats(name)\n",
    "        df_shotzones['Team'] = name\n",
    "        df_attackspeed = teamAttackSpeedStats(name)\n",
    "        df_attackspeed['Team'] = name\n",
    "        df_results = teamFinalResultsStats(name)\n",
    "        df_results['Team'] = name\n",
    "        return ('Done')\n"
   ]
  },
  {
   "cell_type": "code",
   "execution_count": 69,
   "metadata": {
    "ExecuteTime": {
     "end_time": "2019-03-30T20:16:30.653893Z",
     "start_time": "2019-03-30T20:16:07.838514Z"
    }
   },
   "outputs": [
    {
     "data": {
      "text/plain": [
       "'Done'"
      ]
     },
     "execution_count": 69,
     "metadata": {},
     "output_type": "execute_result"
    }
   ],
   "source": [
    "def getTeamStats(teams_names):\n",
    "    for name in teams_names:\n",
    "        df_summary = teamSummaryStats(name)\n",
    "        df_summary['Team'] = name\n",
    "        df_formation = teamFormationStats(name)\n",
    "        df_formation['Team'] = name\n",
    "        df_gamestats = teamGameStats(name)\n",
    "        df_gamestats['Team'] = name\n",
    "        df_timing = teamTimingStats(name)\n",
    "        df_timing['Team'] = name\n",
    "        df_shotzones = teamShotZonesStats(name)\n",
    "        df_shotzones['Team'] = name\n",
    "        df_attackspeed = teamAttackSpeedStats(name)\n",
    "        df_attackspeed['Team'] = name\n",
    "        df_results = teamFinalResultsStats(name)\n",
    "        df_results['Team'] = name\n",
    "        df = pd.concat([df_summary,df_timing,df_shotzones,df_attackspeed,df_results])\n",
    "        df1 = pd.concat([df_formation,df_gamestats])\n",
    "        df.to_csv(path + '\\Team_Stats_1_%s'%name + '.csv')\n",
    "        df1.to_csv(path + '\\Team_Stats_2_%s'%name + '.csv')\n",
    "        return ('Done')\n",
    "    \n",
    "teams_names = ['Manchester_United','Liverpool']\n",
    "getTeamStats(teams_names)"
   ]
  }
 ],
 "metadata": {
  "kernelspec": {
   "display_name": "Python 3",
   "language": "python",
   "name": "python3"
  }
 },
 "nbformat": 4,
 "nbformat_minor": 2
}
