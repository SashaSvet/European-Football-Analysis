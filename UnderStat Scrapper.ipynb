{
 "cells": [
  {
   "cell_type": "code",
   "execution_count": 1,
   "metadata": {
    "ExecuteTime": {
     "end_time": "2019-03-11T18:35:06.612556Z",
     "start_time": "2019-03-11T18:35:05.335964Z"
    },
    "collapsed": true
   },
   "outputs": [],
   "source": [
    "import pandas as pd\n",
    "import matplotlib.pyplot as plt\n",
    "from selenium import webdriver\n",
    "from selenium.webdriver.common.keys import Keys\n",
    "import re\n",
    "import numpy as np \n",
    "import glob \n",
    "import warnings \n",
    "from scipy.stats import norm\n",
    "from IPython.display import display, HTML\n",
    "import scipy\n",
    "warnings.filterwarnings(\"ignore\")\n",
    "%matplotlib inline\n",
    "import seaborn as sns\n",
    "pd.options.display.float_format = '{:.2f}'.format\n",
    "sns.set()"
   ]
  },
  {
   "cell_type": "code",
   "execution_count": 2,
   "metadata": {
    "ExecuteTime": {
     "end_time": "2019-03-11T18:35:07.987843Z",
     "start_time": "2019-03-11T18:35:07.982882Z"
    },
    "collapsed": true
   },
   "outputs": [],
   "source": [
    "leagues = ['EPL','La_Liga','Bundesliga','Serie_A','Ligue_1','RFPL']"
   ]
  },
  {
   "cell_type": "code",
   "execution_count": 3,
   "metadata": {
    "ExecuteTime": {
     "end_time": "2019-03-11T18:35:12.152731Z",
     "start_time": "2019-03-11T18:35:09.908704Z"
    },
    "collapsed": true
   },
   "outputs": [],
   "source": [
    "driver = webdriver.Chrome(r\"C:/chromedriver_win32/chromedriver.exe\")"
   ]
  },
  {
   "cell_type": "code",
   "execution_count": 4,
   "metadata": {
    "ExecuteTime": {
     "end_time": "2019-03-11T18:35:47.925307Z",
     "start_time": "2019-03-11T18:35:12.153702Z"
    },
    "collapsed": true
   },
   "outputs": [],
   "source": [
    "def getTeamStats(leagues):\n",
    "    #Create the receiving dataFrame\n",
    "    dfOut= []\n",
    "    #Go through every league\n",
    "    for league in leagues:\n",
    "        #Establish Connection\n",
    "        driver.get('https://understat.com/league/'+league)\n",
    "        #Get the relevant object\n",
    "        base = driver.find_element_by_id('league-chemp')\n",
    "        #Get Rows\n",
    "        rows = base.find_elements_by_tag_name('tr')\n",
    "        #Create a list to receive values\n",
    "        values=[]\n",
    "        #Go through every row\n",
    "        for item in range(1,len(rows)):\n",
    "            #Get elements from the row\n",
    "            row = rows[item].find_elements_by_tag_name('td')\n",
    "            #Add those elements to the values list\n",
    "            values.append([row[i].text for i in range(1,len(row))])\n",
    "            #Go through every value and append it to the dataframe value by value\n",
    "            for j in range(0,len(values)):\n",
    "                dfOut.append([league,values[j][0],values[j][1],values[j][2],values[j][3],values[j][4],values[j][5],values[j][6],\n",
    "                             values[j][7],values[j][8],values[j][9],values[j][10]])\n",
    "    return dfOut\n",
    "\n",
    "#Run the function\n",
    "dfOut = getTeamStats(leagues=leagues)\n",
    "#Convert to dataframe\n",
    "dfOut = pd.DataFrame(dfOut,columns=['league','team','matches','wins','draws','losses','goals_for','goals_against','points','xG','xGA','xPTS'])\n",
    "#Drop duplicate rows created\n",
    "dfOut = dfOut.drop_duplicates()"
   ]
  },
  {
   "cell_type": "code",
   "execution_count": 6,
   "metadata": {
    "ExecuteTime": {
     "end_time": "2019-03-11T18:36:10.056187Z",
     "start_time": "2019-03-11T18:36:10.052206Z"
    }
   },
   "outputs": [],
   "source": [
    "teams = dfOut['team'].unique()"
   ]
  },
  {
   "cell_type": "code",
   "execution_count": null,
   "metadata": {
    "ExecuteTime": {
     "start_time": "2019-03-11T18:36:11.727Z"
    },
    "scrolled": true
   },
   "outputs": [],
   "source": [
    "\"\"\"Function mines players stats Data\"\"\"\n",
    "\n",
    "def getPlayerStats(teams):\n",
    "    #Create empty list for upcoming data\n",
    "    data = []\n",
    "    driver = webdriver.Chrome(r\"C:/chromedriver_win32/chromedriver.exe\")\n",
    "    #Go through every team and get player stats for every team\n",
    "    for i in teams:\n",
    "        driver.get('https://understat.com/team/'+i+'/2018')\n",
    "        baseTable = driver.find_element_by_id('team-players')\n",
    "        tableRows = baseTable.find_elements_by_tag_name('tr')\n",
    "        for item in range(1,len(tableRows)):\n",
    "            row     = tableRows[item].find_elements_by_tag_name('td')\n",
    "            Team    = i\n",
    "            name    = row[1].text\n",
    "            pos     = row[2].text\n",
    "            apps    = row[3].text\n",
    "            Min     = row[4].text\n",
    "            goals   = row[5].text\n",
    "            assists = row[6].text\n",
    "            sh90    = row[7].text\n",
    "            kp90    = row[8].text\n",
    "            xg      = row[9].text\n",
    "            xa      = row[10].text\n",
    "            xg90    = row[11].text\n",
    "            xa90    = row[12].text\n",
    "            #Append to lsit\n",
    "            data.append([Team,name,pos,apps,Min,goals,assists,sh90,kp90,xg,xa,xg90,xa90])\n",
    "    #Create DataFrame from List\n",
    "    df = pd.DataFrame(data)\n",
    "    df = df.rename(columns={0:'Team',1:\"Name\",2: \"Position\",3: \"Apps\", 4:\"Min\", 5:\"Goals_Scored\"\n",
    "                    , 6:\"Assists\",7: \"Sh90\",8: \"KP90\",9: \"xG\",10: \"xA\"\n",
    "                    , 11:\"xG90\",12: \"xA90\"})\n",
    "    return df\n",
    "\n",
    "df = getPlayerStats(teams)\n",
    "\n",
    "#Split df to Summary player per team Stats and Player stats\n",
    "df_teams = df[df.Name =='']\n",
    "df_players = df[df.Name != '']"
   ]
  },
  {
   "cell_type": "code",
   "execution_count": 22,
   "metadata": {
    "ExecuteTime": {
     "end_time": "2019-03-10T20:17:42.796644Z",
     "start_time": "2019-03-10T20:17:42.762759Z"
    },
    "collapsed": true
   },
   "outputs": [],
   "source": [
    "df_summary_players_per_team.to_csv('Summary_player_per_team.csv')\n",
    "df_players.to_csv('Players_stats.csv')\n",
    "dfOut.to_csv('Teams_stats.csv')"
   ]
  }
 ],
 "metadata": {
  "kernelspec": {
   "display_name": "Python 3",
   "language": "python",
   "name": "python3"
  },
  "language_info": {
   "codemirror_mode": {
    "name": "ipython",
    "version": 3
   },
   "file_extension": ".py",
   "mimetype": "text/x-python",
   "name": "python",
   "nbconvert_exporter": "python",
   "pygments_lexer": "ipython3",
   "version": "3.6.3"
  }
 },
 "nbformat": 4,
 "nbformat_minor": 2
}
