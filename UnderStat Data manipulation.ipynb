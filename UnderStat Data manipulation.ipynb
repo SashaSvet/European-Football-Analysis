{
 "cells": [
  {
   "cell_type": "code",
   "execution_count": 1,
   "metadata": {
    "ExecuteTime": {
     "end_time": "2019-03-11T18:17:11.320673Z",
     "start_time": "2019-03-11T18:17:06.221082Z"
    },
    "collapsed": true
   },
   "outputs": [],
   "source": [
    "import pandas as pd\n",
    "import matplotlib.pyplot as plt\n",
    "import re\n",
    "import numpy as np \n",
    "import glob \n",
    "import warnings \n",
    "from scipy.stats import norm\n",
    "from IPython.display import display, HTML\n",
    "import scipy\n",
    "warnings.filterwarnings(\"ignore\")\n",
    "%matplotlib inline\n",
    "import seaborn as sns\n",
    "pd.options.display.float_format = '{:.2f}'.format\n",
    "sns.set()"
   ]
  },
  {
   "cell_type": "code",
   "execution_count": 2,
   "metadata": {
    "ExecuteTime": {
     "end_time": "2019-03-11T18:17:11.504177Z",
     "start_time": "2019-03-11T18:17:11.321634Z"
    },
    "collapsed": true
   },
   "outputs": [],
   "source": [
    "players = pd.read_csv('Players_stats.csv',index_col =0)"
   ]
  },
  {
   "cell_type": "code",
   "execution_count": 3,
   "metadata": {
    "ExecuteTime": {
     "end_time": "2019-03-11T18:17:11.517253Z",
     "start_time": "2019-03-11T18:17:11.505145Z"
    }
   },
   "outputs": [],
   "source": [
    "def getCleandata(df):\n",
    "    numeric_columns = df.columns[3:]    \n",
    "    df['xG'] = df['xG'].apply(lambda x: x[:x.find('+')] if x.find('+') > 0 else x[:x.find('-')])\n",
    "    df['xA'] = df['xA'].apply(lambda x: x[:x.find('+')] if x.find('+') > 0 else x[:x.find('-')])\n",
    "    df['Position'] = df['Position'].apply(lambda x: x.replace(' ',''))\n",
    "    for column in numeric_columns:\n",
    "        df[column] = pd.to_numeric(df[column])\n",
    "    return df"
   ]
  },
  {
   "cell_type": "code",
   "execution_count": 4,
   "metadata": {
    "ExecuteTime": {
     "end_time": "2019-03-11T18:17:11.611858Z",
     "start_time": "2019-03-11T18:17:11.522098Z"
    }
   },
   "outputs": [
    {
     "data": {
      "text/html": [
       "<div>\n",
       "<style scoped>\n",
       "    .dataframe tbody tr th:only-of-type {\n",
       "        vertical-align: middle;\n",
       "    }\n",
       "\n",
       "    .dataframe tbody tr th {\n",
       "        vertical-align: top;\n",
       "    }\n",
       "\n",
       "    .dataframe thead th {\n",
       "        text-align: right;\n",
       "    }\n",
       "</style>\n",
       "<table border=\"1\" class=\"dataframe\">\n",
       "  <thead>\n",
       "    <tr style=\"text-align: right;\">\n",
       "      <th></th>\n",
       "      <th>Team</th>\n",
       "      <th>Name</th>\n",
       "      <th>Position</th>\n",
       "      <th>Apps</th>\n",
       "      <th>Min</th>\n",
       "      <th>Goals_Scored</th>\n",
       "      <th>Assists</th>\n",
       "      <th>Sh90</th>\n",
       "      <th>KP90</th>\n",
       "      <th>xG</th>\n",
       "      <th>xA</th>\n",
       "      <th>xG90</th>\n",
       "      <th>xA90</th>\n",
       "    </tr>\n",
       "  </thead>\n",
       "  <tbody>\n",
       "    <tr>\n",
       "      <th>0</th>\n",
       "      <td>Manchester City</td>\n",
       "      <td>Sergio Agüero</td>\n",
       "      <td>F</td>\n",
       "      <td>26.00</td>\n",
       "      <td>1960</td>\n",
       "      <td>18</td>\n",
       "      <td>6</td>\n",
       "      <td>4.36</td>\n",
       "      <td>1.15</td>\n",
       "      <td>17.52</td>\n",
       "      <td>3.78</td>\n",
       "      <td>0.80</td>\n",
       "      <td>0.17</td>\n",
       "    </tr>\n",
       "    <tr>\n",
       "      <th>1</th>\n",
       "      <td>Manchester City</td>\n",
       "      <td>Raheem Sterling</td>\n",
       "      <td>FM</td>\n",
       "      <td>27.00</td>\n",
       "      <td>2159</td>\n",
       "      <td>15</td>\n",
       "      <td>9</td>\n",
       "      <td>2.38</td>\n",
       "      <td>2.29</td>\n",
       "      <td>12.54</td>\n",
       "      <td>9.91</td>\n",
       "      <td>0.52</td>\n",
       "      <td>0.41</td>\n",
       "    </tr>\n",
       "    <tr>\n",
       "      <th>2</th>\n",
       "      <td>Manchester City</td>\n",
       "      <td>Leroy Sané</td>\n",
       "      <td>F</td>\n",
       "      <td>25.00</td>\n",
       "      <td>1530</td>\n",
       "      <td>8</td>\n",
       "      <td>9</td>\n",
       "      <td>2.59</td>\n",
       "      <td>2.00</td>\n",
       "      <td>6.28</td>\n",
       "      <td>6.91</td>\n",
       "      <td>0.37</td>\n",
       "      <td>0.41</td>\n",
       "    </tr>\n",
       "    <tr>\n",
       "      <th>3</th>\n",
       "      <td>Manchester City</td>\n",
       "      <td>David Silva</td>\n",
       "      <td>M</td>\n",
       "      <td>26.00</td>\n",
       "      <td>1916</td>\n",
       "      <td>6</td>\n",
       "      <td>6</td>\n",
       "      <td>2.16</td>\n",
       "      <td>2.77</td>\n",
       "      <td>7.86</td>\n",
       "      <td>8.36</td>\n",
       "      <td>0.37</td>\n",
       "      <td>0.39</td>\n",
       "    </tr>\n",
       "    <tr>\n",
       "      <th>4</th>\n",
       "      <td>Manchester City</td>\n",
       "      <td>Riyad Mahrez</td>\n",
       "      <td>FM</td>\n",
       "      <td>24.00</td>\n",
       "      <td>1152</td>\n",
       "      <td>6</td>\n",
       "      <td>3</td>\n",
       "      <td>3.52</td>\n",
       "      <td>1.56</td>\n",
       "      <td>6.24</td>\n",
       "      <td>4.27</td>\n",
       "      <td>0.49</td>\n",
       "      <td>0.33</td>\n",
       "    </tr>\n",
       "  </tbody>\n",
       "</table>\n",
       "</div>"
      ],
      "text/plain": [
       "              Team             Name Position  Apps   Min  Goals_Scored  \\\n",
       "0  Manchester City    Sergio Agüero        F 26.00  1960            18   \n",
       "1  Manchester City  Raheem Sterling       FM 27.00  2159            15   \n",
       "2  Manchester City       Leroy Sané        F 25.00  1530             8   \n",
       "3  Manchester City      David Silva        M 26.00  1916             6   \n",
       "4  Manchester City     Riyad Mahrez       FM 24.00  1152             6   \n",
       "\n",
       "   Assists  Sh90  KP90    xG   xA  xG90  xA90  \n",
       "0        6  4.36  1.15 17.52 3.78  0.80  0.17  \n",
       "1        9  2.38  2.29 12.54 9.91  0.52  0.41  \n",
       "2        9  2.59  2.00  6.28 6.91  0.37  0.41  \n",
       "3        6  2.16  2.77  7.86 8.36  0.37  0.39  \n",
       "4        3  3.52  1.56  6.24 4.27  0.49  0.33  "
      ]
     },
     "execution_count": 4,
     "metadata": {},
     "output_type": "execute_result"
    }
   ],
   "source": [
    "df_clean = getCleandata(players)\n",
    "\n",
    "df_clean.head()"
   ]
  }
 ],
 "metadata": {
  "kernelspec": {
   "display_name": "Python 3",
   "language": "python",
   "name": "python3"
  },
  "language_info": {
   "codemirror_mode": {
    "name": "ipython",
    "version": 3
   },
   "file_extension": ".py",
   "mimetype": "text/x-python",
   "name": "python",
   "nbconvert_exporter": "python",
   "pygments_lexer": "ipython3",
   "version": "3.6.3"
  }
 },
 "nbformat": 4,
 "nbformat_minor": 2
}
