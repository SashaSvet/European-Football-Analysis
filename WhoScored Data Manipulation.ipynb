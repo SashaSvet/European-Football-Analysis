{
 "cells": [
  {
   "cell_type": "code",
   "execution_count": 78,
   "metadata": {
    "ExecuteTime": {
     "end_time": "2019-03-21T18:57:45.526399Z",
     "start_time": "2019-03-21T18:57:45.487484Z"
    },
    "collapsed": true
   },
   "outputs": [],
   "source": [
    "import pandas as pd\n",
    "import matplotlib.pyplot as plt\n",
    "import re\n",
    "import numpy as np \n",
    "import glob \n",
    "import warnings \n",
    "from scipy.stats import norm\n",
    "from IPython.display import display, HTML\n",
    "import scipy\n",
    "import os\n",
    "warnings.filterwarnings(\"ignore\")\n",
    "%matplotlib inline\n",
    "import seaborn as sns\n",
    "pd.options.display.float_format = '{:.2f}'.format\n",
    "sns.set()"
   ]
  },
  {
   "cell_type": "code",
   "execution_count": 79,
   "metadata": {
    "ExecuteTime": {
     "end_time": "2019-03-21T18:57:47.539704Z",
     "start_time": "2019-03-21T18:57:47.286351Z"
    },
    "collapsed": true
   },
   "outputs": [],
   "source": [
    "df = pd.read_csv('Player_Stats_2.csv',index_col=0)\n",
    "df.drop('R',axis =1,inplace = True)"
   ]
  },
  {
   "cell_type": "code",
   "execution_count": 80,
   "metadata": {
    "ExecuteTime": {
     "end_time": "2019-03-21T18:57:49.375805Z",
     "start_time": "2019-03-21T18:57:49.367803Z"
    },
    "collapsed": true
   },
   "outputs": [],
   "source": [
    "df['Age'] = df['Name'].apply(lambda x: re.findall(r'[0-9]+', x)[0])\n",
    "df['Position'] = df['Name'].apply(lambda x: x[x.find(','):])\n",
    "df['Name'] = df['Name'].apply(lambda x: x[:x[:x.find(',')].find('\\r')])"
   ]
  },
  {
   "cell_type": "code",
   "execution_count": 81,
   "metadata": {
    "ExecuteTime": {
     "end_time": "2019-03-21T18:57:51.827111Z",
     "start_time": "2019-03-21T18:57:51.814146Z"
    }
   },
   "outputs": [
    {
     "name": "stdout",
     "output_type": "stream",
     "text": [
      "<class 'pandas.core.frame.DataFrame'>\n",
      "Index: 0 entries\n",
      "Data columns (total 37 columns):\n",
      "height             0 non-null object\n",
      "weight             0 non-null object\n",
      "apps               0 non-null object\n",
      "mins               0 non-null object\n",
      "goals              0 non-null object\n",
      "Assists            0 non-null object\n",
      "Yel                0 non-null object\n",
      "Red                0 non-null object\n",
      "SpG                0 non-null object\n",
      "PS%                0 non-null object\n",
      "AerialsWon         0 non-null object\n",
      "MotM               0 non-null object\n",
      "Rating             0 non-null object\n",
      "ID                 0 non-null object\n",
      "Team               0 non-null object\n",
      "League_ID          0 non-null object\n",
      "Tackles            0 non-null object\n",
      "Inter              0 non-null object\n",
      "Fouls              0 non-null object\n",
      "offsides_won       0 non-null object\n",
      "Clear              0 non-null object\n",
      "Drb                0 non-null object\n",
      "Blocks             0 non-null object\n",
      "OwnG               0 non-null object\n",
      "Keypasses          0 non-null object\n",
      "Drib               0 non-null object\n",
      "Fouled             0 non-null object\n",
      "offsides_caught    0 non-null object\n",
      "Dispossesed        0 non-null object\n",
      "UnsTch             0 non-null object\n",
      "Name               0 non-null object\n",
      "AvgP               0 non-null object\n",
      "Crosses            0 non-null object\n",
      "LongB              0 non-null object\n",
      "ThrB               0 non-null object\n",
      "Age                0 non-null object\n",
      "Position           0 non-null object\n",
      "dtypes: object(37)\n",
      "memory usage: 0.0+ bytes\n"
     ]
    }
   ],
   "source": [
    "df.info()"
   ]
  }
 ],
 "metadata": {
  "kernelspec": {
   "display_name": "Python 3",
   "language": "python",
   "name": "python3"
  },
  "language_info": {
   "codemirror_mode": {
    "name": "ipython",
    "version": 3
   },
   "file_extension": ".py",
   "mimetype": "text/x-python",
   "name": "python",
   "nbconvert_exporter": "python",
   "pygments_lexer": "ipython3",
   "version": "3.6.3"
  }
 },
 "nbformat": 4,
 "nbformat_minor": 2
}
