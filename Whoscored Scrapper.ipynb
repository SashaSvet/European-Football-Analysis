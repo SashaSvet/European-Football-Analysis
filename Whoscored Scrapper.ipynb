{
 "cells": [
  {
   "cell_type": "code",
   "execution_count": 1,
   "metadata": {
    "ExecuteTime": {
     "end_time": "2019-03-19T08:32:20.278882Z",
     "start_time": "2019-03-19T08:32:19.865772Z"
    },
    "collapsed": true
   },
   "outputs": [],
   "source": [
    "import pandas as pd\n",
    "from selenium import webdriver\n",
    "from selenium.webdriver.common.keys import Keys\n",
    "import re\n",
    "import warnings\n",
    "warnings.filterwarnings(\"ignore\")"
   ]
  },
  {
   "cell_type": "code",
   "execution_count": 2,
   "metadata": {
    "ExecuteTime": {
     "end_time": "2019-03-19T08:32:24.533747Z",
     "start_time": "2019-03-19T08:32:22.402690Z"
    },
    "collapsed": true
   },
   "outputs": [],
   "source": [
    "driver = webdriver.Chrome(r\"C:/chromedriver_win32/chromedriver.exe\")"
   ]
  },
  {
   "cell_type": "code",
   "execution_count": 3,
   "metadata": {
    "ExecuteTime": {
     "end_time": "2019-03-19T08:32:28.028686Z",
     "start_time": "2019-03-19T08:32:24.539728Z"
    },
    "collapsed": true
   },
   "outputs": [],
   "source": [
    "\"\"\"Need to write a dunction that mines all ids for all tournaments availible.\"\"\"\n",
    "\n",
    "#Get Basic Tournaments\n",
    "def getPopularTournaments():\n",
    "    comp_id = []\n",
    "    comp_name =[]\n",
    "    regions =[]\n",
    "    #Create URL\n",
    "    driver.get('https://www.whoscored.com')\n",
    "    #Go to the wanted data table\n",
    "    base = driver.find_element_by_id('popular')\n",
    "    elements =base.find_elements_by_tag_name('li')\n",
    "    #Get Ids\n",
    "    comp_id.append([re.findall(r'\\d+', elements[i].find_element_by_tag_name('a').get_attribute('href'))[1] for i in range(0,len(elements))])\n",
    "    #Get Regions ID\n",
    "    regions.append([re.findall(r'\\d+', elements[i].find_element_by_tag_name('a').get_attribute('href'))[0] for i in range(0,len(elements))])\n",
    "    #Get tournament name\n",
    "    comp_name.append([elements[i].text for i in range(0,len(elements))])\n",
    "    competitions = pd.DataFrame({'Name': comp_name[0],'ID': comp_id[0],'Region':regions[0]})\n",
    "    return competitions\n",
    "\n",
    "tournaments = getPopularTournaments()"
   ]
  },
  {
   "cell_type": "code",
   "execution_count": 2,
   "metadata": {
    "ExecuteTime": {
     "end_time": "2019-03-19T21:22:57.075327Z",
     "start_time": "2019-03-19T21:22:57.071341Z"
    }
   },
   "outputs": [],
   "source": [
    "# tournaments"
   ]
  },
  {
   "cell_type": "code",
   "execution_count": 5,
   "metadata": {
    "ExecuteTime": {
     "end_time": "2019-03-18T14:33:43.773205Z",
     "start_time": "2019-03-18T14:33:43.750268Z"
    },
    "collapsed": true
   },
   "outputs": [],
   "source": [
    "# tournaments.to_csv('Tournaments.csv')"
   ]
  },
  {
   "cell_type": "code",
   "execution_count": 4,
   "metadata": {
    "ExecuteTime": {
     "end_time": "2019-03-19T08:33:24.473362Z",
     "start_time": "2019-03-19T08:32:33.230053Z"
    },
    "collapsed": true
   },
   "outputs": [],
   "source": [
    "#Get Teams Names and ids\n",
    "def getTeams(tournaments):\n",
    "    #I will include the europe tournaments here ( they have different page structure )\n",
    "    tournaments = tournaments[0:15]\n",
    "    ids = tournaments['ID'].values\n",
    "    regions = tournaments['Region'].values\n",
    "    teams = []\n",
    "    links = []\n",
    "    team_ids = []\n",
    "    values=[]\n",
    "    for i, r in zip(ids, regions):\n",
    "        #Create URL\n",
    "        driver.get('https://www.whoscored.com/Regions/'+str(r) + '/Tournaments/' + str(i))\n",
    "        #Go to the wanted data table\n",
    "        #base = driver.find_element_by_id('standings-16368-content')\n",
    "        base = driver.find_element_by_class_name('standings')\n",
    "        #Get table rows\n",
    "        rows =base.find_elements_by_tag_name('tr')        \n",
    "        for item in range(0,len(rows)):\n",
    "            #Go to specific location to find the team name\n",
    "            data = rows[item].find_elements_by_tag_name('td')\n",
    "            teams.append(data[1].text)\n",
    "            link = rows[item].find_elements_by_class_name('team-link')[0].get_attribute('href')\n",
    "            team_id = re.search(r'\\d+', link).group()\n",
    "            values.append([i,data[1].text,team_id])\n",
    "    teams = pd.DataFrame(values,columns=['Tournament_ID','Team_Name','Team_ID'])\n",
    "    return teams\n",
    "teams = getTeams(tournaments)"
   ]
  },
  {
   "cell_type": "code",
   "execution_count": 5,
   "metadata": {
    "ExecuteTime": {
     "end_time": "2019-03-19T08:33:24.488276Z",
     "start_time": "2019-03-19T08:33:24.474313Z"
    },
    "collapsed": true
   },
   "outputs": [],
   "source": [
    "def modifyNumericType(df):\n",
    "    for column in df.keys():\n",
    "        df[column] = pd.to_numeric(df[column],errors = 'ignore')\n",
    "    return df\n",
    "teams = modifyNumericType(teams)\n",
    "tournaments = modifyNumericType(tournaments)"
   ]
  },
  {
   "cell_type": "code",
   "execution_count": 45,
   "metadata": {
    "ExecuteTime": {
     "end_time": "2019-03-19T11:21:10.420073Z",
     "start_time": "2019-03-19T11:21:10.349711Z"
    },
    "collapsed": true
   },
   "outputs": [],
   "source": [
    "\"\"\"Get Summary stats Stats Function\"\"\"\n",
    "def getPlayerSummary(relTeams):\n",
    "    # Create empty list for future data\n",
    "    values =[]\n",
    "    players_names = []\n",
    "    players_ids = []\n",
    "    for i in relTeams:\n",
    "        #Get desired url\n",
    "        driver.get('https://www.whoscored.com/Teams/'+str(i))\n",
    "        #Wait for the url to load\n",
    "        driver.implicitly_wait(60)\n",
    "        base = driver.find_element_by_id('top-player-stats-summary-grid')\n",
    "        table = base.find_element_by_id('player-table-statistics-body')\n",
    "        tableRows = table.find_elements_by_tag_name('tr')\n",
    "        for item in range(0,len(tableRows)):\n",
    "                #Find the link for each player and extract the id from it\n",
    "                link = tableRows[item].find_elements_by_class_name('player-link')[0].get_attribute('href')\n",
    "                players_ids.append(re.search(r'\\d+',link).group())\n",
    "                row     = tableRows[item].find_elements_by_tag_name('td')\n",
    "                players_names.append(row[2].text)\n",
    "                #Get Table values\n",
    "                values.append([row[i].text for i in range(1,len(row))])\n",
    "    list_of_players = list(zip(players_names, players_ids))\n",
    "    players = pd.DataFrame(list_of_players, columns = ['Name', 'ID'])\n",
    "    dfOut = pd.DataFrame(values,columns=[\"R\",'Name', \"height\", \"weight\", \"apps\",'mins','goals','Assists','Yel','Red',\n",
    "                                                 'SpG','PS%','AerialsWon','MotM','Rating'])\n",
    "    dfOut = pd.merge(dfOut,players,on='Name')\n",
    "    return dfOut\n",
    "\n",
    "\n",
    "def crawlPlayerStats(teams):\n",
    "    league_ids = teams['Tournament_ID'].unique()\n",
    "    #optional \n",
    "    league_ids = league_ids[9:]\n",
    "    c = 0        \n",
    "    for league in league_ids:\n",
    "        relTeams = teams[teams.Tournament_ID == league]['Team_ID'].values        \n",
    "        df = getPlayerSummary(relTeams)\n",
    "        df['League_ID'] = league\n",
    "        df.to_csv('Player_Stats_%s'%tournaments[tournaments.ID == league]['Name'].values+'.csv')\n",
    "        c = c+1\n",
    "    return print('Crawled ' + str(c) +' leagues!')"
   ]
  },
  {
   "cell_type": "code",
   "execution_count": 1,
   "metadata": {
    "ExecuteTime": {
     "end_time": "2019-03-19T21:22:46.847676Z",
     "start_time": "2019-03-19T21:22:46.827728Z"
    }
   },
   "outputs": [],
   "source": [
    "# crawlPlayerStats(teams)"
   ]
  },
  {
   "cell_type": "code",
   "execution_count": null,
   "metadata": {
    "ExecuteTime": {
     "end_time": "2019-03-18T15:40:31.175518Z",
     "start_time": "2019-03-18T15:13:15.553Z"
    },
    "collapsed": true
   },
   "outputs": [],
   "source": [
    "# players_summary.to_csv('Players_summary_stats.csv')"
   ]
  },
  {
   "cell_type": "code",
   "execution_count": 9,
   "metadata": {
    "ExecuteTime": {
     "end_time": "2019-03-17T11:52:19.915368Z",
     "start_time": "2019-03-17T11:52:19.898414Z"
    },
    "collapsed": true
   },
   "outputs": [],
   "source": [
    "\"\"\"Get Defensive Stats Function\"\"\"\n",
    "\n",
    "def getDefensiveStats(teams):\n",
    "    #Create empty list for future data\n",
    "    values=[]\n",
    "    #set Url\n",
    "    driver.get('https://www.whoscored.com/Teams/32/Show/England-Manchester-United')\n",
    "    #Wait for the page to load.\n",
    "    driver.implicitly_wait(40)\n",
    "    #Get the right table by clicking the defensive tab on the data table.\n",
    "    driver.find_elements_by_id(\"team-squad-stats-options\")[0].find_elements_by_tag_name('li')[1].click()\n",
    "    base = driver.find_elements_by_id('statistics-table-defensive')\n",
    "    tableRows = base[0].find_elements_by_tag_name('tr')\n",
    "    for item in range(1,len(tableRows)):\n",
    "        row     = tableRows[item].find_elements_by_tag_name('td')\n",
    "        values.append([row[i].text for i in range(1,len(row))])\n",
    "    df = pd.DataFrame(values)\n",
    "    #return the data table  \n",
    "    return df\n",
    "data = getDefensiveStats(teams)"
   ]
  },
  {
   "cell_type": "code",
   "execution_count": 31,
   "metadata": {
    "ExecuteTime": {
     "end_time": "2019-03-18T13:04:38.496310Z",
     "start_time": "2019-03-18T13:03:52.000073Z"
    },
    "collapsed": true
   },
   "outputs": [],
   "source": [
    "\"\"\"Get Attacking Stats Function\"\"\"\n",
    "\n",
    "def getAttackingStats(teams):\n",
    "    #Create empty list for future data\n",
    "    values=[]\n",
    "    #set Url\n",
    "    driver.get('https://www.whoscored.com/Teams/32/Show/England-Manchester-United')\n",
    "    #Wait for the page to load.\n",
    "    driver.implicitly_wait(40)\n",
    "    #Get the right table by clicking the defensive tab on the data table.\n",
    "    driver.find_elements_by_id(\"team-squad-stats-options\")[0].find_elements_by_tag_name('li')[2].click()\n",
    "    driver.implicitly_wait(40)\n",
    "    base = driver.find_elements_by_id('statistics-table-offensive')\n",
    "    tableRows = base[0].find_elements_by_tag_name('tr')\n",
    "    for item in range(1,len(tableRows)):\n",
    "        row     = tableRows[item].find_elements_by_tag_name('td')\n",
    "        values.append([row[i].text for i in range(1,len(row))])\n",
    "    df = pd.DataFrame(values)\n",
    "    #return the data table  \n",
    "    return df\n",
    "data = getAttackingStats(teams)"
   ]
  },
  {
   "cell_type": "markdown",
   "metadata": {},
   "source": [
    "# Players Match Statistics Crawler"
   ]
  },
  {
   "cell_type": "code",
   "execution_count": null,
   "metadata": {
    "collapsed": true
   },
   "outputs": [],
   "source": []
  },
  {
   "cell_type": "code",
   "execution_count": 21,
   "metadata": {
    "ExecuteTime": {
     "end_time": "2019-03-18T12:48:13.695786Z",
     "start_time": "2019-03-18T12:48:03.809664Z"
    },
    "collapsed": true
   },
   "outputs": [],
   "source": [
    "\"\"\"Players match Statistics Summary crawler\"\"\"\n",
    "def getPlayerMatchStatisSumm()\n",
    "values =[]\n",
    "driver.get('https://www.whoscored.com/Players/97752/MatchStatistics/')\n",
    "driver.implicitly_wait(40)\n",
    "base = driver.find_elements_by_id('player-table-statistics-body')\n",
    "tableRows = base[0].find_elements_by_tag_name('tr')\n",
    "for item in range(0,len(tableRows)):\n",
    "    row     = tableRows[item].find_elements_by_tag_name('td')\n",
    "    values.append([row[i].text for i in range(0,len(row))])\n",
    "df = pd.DataFrame(values)"
   ]
  },
  {
   "cell_type": "code",
   "execution_count": 39,
   "metadata": {
    "ExecuteTime": {
     "end_time": "2019-03-18T13:13:03.939777Z",
     "start_time": "2019-03-18T13:12:16.373997Z"
    },
    "collapsed": true
   },
   "outputs": [],
   "source": [
    "\"\"\"Match Statistics Defensive Crawler\"\"\"\n",
    "values =[]\n",
    "driver.get('https://www.whoscored.com/Players/97752/MatchStatistics/')\n",
    "driver.implicitly_wait(40)\n",
    "driver.find_elements_by_id(\"player-matches-stats-options\")[0].find_elements_by_tag_name('li')[1].click()\n",
    "driver.implicitly_wait(40)\n",
    "base = driver.find_elements_by_id('statistics-table-defensive-matches')\n",
    "tableRows = base[0].find_elements_by_tag_name('tr')\n",
    "for item in range(0,len(tableRows)):\n",
    "    row     = tableRows[item].find_elements_by_tag_name('td')\n",
    "    values.append([row[i].text for i in range(0,len(row))])\n",
    "df = pd.DataFrame(values)"
   ]
  },
  {
   "cell_type": "code",
   "execution_count": 41,
   "metadata": {
    "ExecuteTime": {
     "end_time": "2019-03-18T13:16:33.552659Z",
     "start_time": "2019-03-18T13:15:46.423235Z"
    },
    "collapsed": true
   },
   "outputs": [],
   "source": [
    "\"\"\"Match Statistics Ofensive Crawler\"\"\"\n",
    "values =[]\n",
    "driver.get('https://www.whoscored.com/Players/97752/MatchStatistics/')\n",
    "driver.implicitly_wait(40)\n",
    "driver.find_elements_by_id(\"player-matches-stats-options\")[0].find_elements_by_tag_name('li')[2].click()\n",
    "driver.implicitly_wait(40)\n",
    "base = driver.find_elements_by_id('statistics-table-offensive-matches')\n",
    "tableRows = base[0].find_elements_by_tag_name('tr')\n",
    "for item in range(0,len(tableRows)):\n",
    "    row     = tableRows[item].find_elements_by_tag_name('td')\n",
    "    values.append([row[i].text for i in range(0,len(row))])\n",
    "df = pd.DataFrame(values)"
   ]
  },
  {
   "cell_type": "code",
   "execution_count": null,
   "metadata": {
    "collapsed": true
   },
   "outputs": [],
   "source": [
    "\"\"\"Match Statistics Passing Crawler\"\"\"\n",
    "values =[]\n",
    "driver.get('https://www.whoscored.com/Players/97752/MatchStatistics/')\n",
    "driver.implicitly_wait(40)\n",
    "driver.find_elements_by_id(\"player-matches-stats-options\")[0].find_elements_by_tag_name('li')[3].click()\n",
    "driver.implicitly_wait(40)\n",
    "base = driver.find_elements_by_id('statistics-table-passing-matches')\n",
    "tableRows = base[0].find_elements_by_tag_name('tr')\n",
    "for item in range(0,len(tableRows)):\n",
    "    row     = tableRows[item].find_elements_by_tag_name('td')\n",
    "    values.append([row[i].text for i in range(0,len(row))])\n",
    "df = pd.DataFrame(values)"
   ]
  }
 ],
 "metadata": {
  "celltoolbar": "Raw Cell Format",
  "kernelspec": {
   "display_name": "Python 3",
   "language": "python",
   "name": "python3"
  },
  "language_info": {
   "codemirror_mode": {
    "name": "ipython",
    "version": 3
   },
   "file_extension": ".py",
   "mimetype": "text/x-python",
   "name": "python",
   "nbconvert_exporter": "python",
   "pygments_lexer": "ipython3",
   "version": "3.6.3"
  }
 },
 "nbformat": 4,
 "nbformat_minor": 2
}
