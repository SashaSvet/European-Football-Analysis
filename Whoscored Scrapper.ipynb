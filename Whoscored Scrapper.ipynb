{
 "cells": [
  {
   "cell_type": "code",
   "execution_count": 2,
   "metadata": {
    "ExecuteTime": {
     "end_time": "2019-03-18T08:02:52.502139Z",
     "start_time": "2019-03-18T08:02:52.080119Z"
    },
    "collapsed": true
   },
   "outputs": [],
   "source": [
    "import pandas as pd\n",
    "from selenium import webdriver\n",
    "from selenium.webdriver.common.keys import Keys\n",
    "import re\n",
    "import warnings\n",
    "warnings.filterwarnings(\"ignore\")"
   ]
  },
  {
   "cell_type": "code",
   "execution_count": 3,
   "metadata": {
    "ExecuteTime": {
     "end_time": "2019-03-18T08:02:55.375605Z",
     "start_time": "2019-03-18T08:02:53.203627Z"
    },
    "collapsed": true
   },
   "outputs": [],
   "source": [
    "driver = webdriver.Chrome(r\"C:/chromedriver_win32/chromedriver.exe\")"
   ]
  },
  {
   "cell_type": "code",
   "execution_count": 22,
   "metadata": {
    "ExecuteTime": {
     "end_time": "2019-03-17T21:08:20.456287Z",
     "start_time": "2019-03-17T21:08:20.336412Z"
    },
    "collapsed": true
   },
   "outputs": [],
   "source": [
    "player_summary_df = pd.DataFrame(columns=[\"R\", \"player\", \"height\", \"weight\", \"apps\",\n",
    "                                          'mins','goals','Assists','Yel','Red',\n",
    "                                          'SpG','PS%','AerialsWon','MotM','Rating'])"
   ]
  },
  {
   "cell_type": "code",
   "execution_count": 66,
   "metadata": {
    "ExecuteTime": {
     "end_time": "2019-03-18T09:31:39.104055Z",
     "start_time": "2019-03-18T09:31:36.582370Z"
    }
   },
   "outputs": [],
   "source": [
    "\"\"\"Need to write a dunction that mines all ids for all tournaments availible.\"\"\"\n",
    "\n",
    "#Get Basic Tournaments\n",
    "def getPopularTournaments():\n",
    "    comp_id = []\n",
    "    comp_name =[]\n",
    "    regions =[]\n",
    "    #Create URL\n",
    "    driver.get('https://www.whoscored.com')\n",
    "    #Go to the wanted data table\n",
    "    base = driver.find_element_by_id('popular')\n",
    "    elements =base.find_elements_by_tag_name('li')\n",
    "    #Get Ids\n",
    "    comp_id.append([re.findall(r'\\d+', elements[i].find_element_by_tag_name('a').get_attribute('href'))[1] for i in range(0,len(elements))])\n",
    "    #Get Regions ID\n",
    "    regions.append([re.findall(r'\\d+', elements[i].find_element_by_tag_name('a').get_attribute('href'))[0] for i in range(0,len(elements))])\n",
    "    #Get tournament name\n",
    "    comp_name.append([elements[i].text for i in range(0,len(elements))])\n",
    "    competitions = pd.DataFrame({'Name': comp_name[0],'ID': comp_id[0],'Region':regions[0]})\n",
    "    return competitions\n",
    "\n",
    "tournaments = getPopularTournaments()"
   ]
  },
  {
   "cell_type": "code",
   "execution_count": 79,
   "metadata": {
    "ExecuteTime": {
     "end_time": "2019-03-18T10:10:43.513867Z",
     "start_time": "2019-03-18T10:09:40.545163Z"
    }
   },
   "outputs": [],
   "source": [
    "#Get Teams Names and ids\n",
    "def getTeams(tournaments):\n",
    "    #I will include the europe tournaments here ( they have different page structure )\n",
    "    tournaments = tournaments[0:15]\n",
    "    ids = tournaments['ID'].values\n",
    "    regions = tournaments['Region'].values\n",
    "    teams = []\n",
    "    links = []\n",
    "    team_ids = []\n",
    "    for i, r in zip(ids, regions):\n",
    "        #Create URL\n",
    "        driver.get('https://www.whoscored.com/Regions/'+str(r) + '/Tournaments/' + str(i))\n",
    "        #Go to the wanted data table\n",
    "#         base = driver.find_element_by_id('standings-16368-content')\n",
    "        base = driver.find_element_by_class_name('standings')\n",
    "        #Get table rows\n",
    "        rows =base.find_elements_by_tag_name('tr')        \n",
    "        for item in range(0,len(rows)):\n",
    "            #Go to specific location to find the team name\n",
    "            data = rows[item].find_elements_by_tag_name('td')\n",
    "            teams.append(data[1].text)        \n",
    "        for i in range(0,len(rows)):\n",
    "            #Get the team ID\n",
    "            links.append(rows[i].find_elements_by_class_name('team-link')[0].get_attribute('href'))        \n",
    "        #With regular expressions module, extract the id from team's link.\n",
    "        for i in range(0,len(links)):\n",
    "            team_ids.append(re.search(r'\\d+', links[i]).group())\n",
    "        team_ids = list(map(int, team_ids))\n",
    "        for i in range(0,len(teams)):\n",
    "            #Replace spaces in team name\n",
    "            if ' ' in teams[i]:\n",
    "                teams[i] = teams[i].replace(' ','-')\n",
    "    #Construct a dict of team names and ids\n",
    "    teams = dict(zip(teams, team_ids))\n",
    "    return teams\n",
    "teams = getTeams(tournaments)"
   ]
  },
  {
   "cell_type": "code",
   "execution_count": 10,
   "metadata": {
    "ExecuteTime": {
     "end_time": "2019-03-18T08:35:27.978772Z",
     "start_time": "2019-03-18T08:28:04.554557Z"
    }
   },
   "outputs": [],
   "source": [
    "\"\"\"Get Summary stats Stats Function\"\"\"\n",
    "players_names = []\n",
    "players_ids = []\n",
    "def getPlayerSummary(teams):\n",
    "    # Create empty list for future data\n",
    "    values =[]\n",
    "    for i in teams.values():\n",
    "        #Get desired url\n",
    "        driver.get('https://www.whoscored.com/Teams/'+str(i))\n",
    "        #Wait for the url to load\n",
    "        driver.implicitly_wait(40)\n",
    "        base = driver.find_element_by_id('top-player-stats-summary-grid')\n",
    "        table = base.find_element_by_id('player-table-statistics-body')\n",
    "        tableRows = table.find_elements_by_tag_name('tr')\n",
    "        for item in range(0,len(tableRows)):\n",
    "                #Find the link for each player and extract the id from it\n",
    "                link = tableRows[item].find_elements_by_class_name('player-link')[0].get_attribute('href')\n",
    "                players_ids.append(re.search(r'\\d+',link).group())\n",
    "                row     = tableRows[item].find_elements_by_tag_name('td')\n",
    "                players_names.append(row[2].text)\n",
    "                values.append([row[i].text for i in range(1,len(row))])\n",
    "    list_of_players = list(zip(players_names, players_ids))\n",
    "    players = pd.DataFrame(list_of_players, columns = ['Name', 'ID'])\n",
    "    dfOut = pd.DataFrame(values,columns=[\"R\",'Name', \"height\", \"weight\", \"apps\",'mins','goals','Assists','Yel','Red',\n",
    "                                         'SpG','PS%','AerialsWon','MotM','Rating'])\n",
    "    dfOut = pd.merge(dfOut,players,on='Name')\n",
    "    return dfOut\n",
    "players_summary = getPlayerSummary(teams)"
   ]
  },
  {
   "cell_type": "code",
   "execution_count": 52,
   "metadata": {
    "ExecuteTime": {
     "end_time": "2019-03-18T09:05:04.698942Z",
     "start_time": "2019-03-18T09:05:04.680988Z"
    }
   },
   "outputs": [
    {
     "data": {
      "text/html": [
       "<div>\n",
       "<style scoped>\n",
       "    .dataframe tbody tr th:only-of-type {\n",
       "        vertical-align: middle;\n",
       "    }\n",
       "\n",
       "    .dataframe tbody tr th {\n",
       "        vertical-align: top;\n",
       "    }\n",
       "\n",
       "    .dataframe thead th {\n",
       "        text-align: right;\n",
       "    }\n",
       "</style>\n",
       "<table border=\"1\" class=\"dataframe\">\n",
       "  <thead>\n",
       "    <tr style=\"text-align: right;\">\n",
       "      <th></th>\n",
       "      <th>R</th>\n",
       "      <th>Name</th>\n",
       "      <th>height</th>\n",
       "      <th>weight</th>\n",
       "      <th>apps</th>\n",
       "      <th>mins</th>\n",
       "      <th>goals</th>\n",
       "      <th>Assists</th>\n",
       "      <th>Yel</th>\n",
       "      <th>Red</th>\n",
       "      <th>SpG</th>\n",
       "      <th>PS%</th>\n",
       "      <th>AerialsWon</th>\n",
       "      <th>MotM</th>\n",
       "      <th>Rating</th>\n",
       "      <th>ID</th>\n",
       "    </tr>\n",
       "  </thead>\n",
       "  <tbody>\n",
       "    <tr>\n",
       "      <th>0</th>\n",
       "      <td></td>\n",
       "      <td>Mohamed Salah\\n26, AM(CLR),FW</td>\n",
       "      <td>175</td>\n",
       "      <td>71</td>\n",
       "      <td>30(1)</td>\n",
       "      <td>2649</td>\n",
       "      <td>17</td>\n",
       "      <td>7</td>\n",
       "      <td>-</td>\n",
       "      <td>-</td>\n",
       "      <td>3.4</td>\n",
       "      <td>76.8</td>\n",
       "      <td>0.3</td>\n",
       "      <td>6</td>\n",
       "      <td>7.52</td>\n",
       "      <td>108226</td>\n",
       "    </tr>\n",
       "    <tr>\n",
       "      <th>1</th>\n",
       "      <td></td>\n",
       "      <td>Virgil van Dijk\\n27, D(C)</td>\n",
       "      <td>193</td>\n",
       "      <td>92</td>\n",
       "      <td>31</td>\n",
       "      <td>2755</td>\n",
       "      <td>3</td>\n",
       "      <td>1</td>\n",
       "      <td>1</td>\n",
       "      <td>-</td>\n",
       "      <td>0.8</td>\n",
       "      <td>89.6</td>\n",
       "      <td>4.7</td>\n",
       "      <td>4</td>\n",
       "      <td>7.44</td>\n",
       "      <td>95408</td>\n",
       "    </tr>\n",
       "    <tr>\n",
       "      <th>2</th>\n",
       "      <td></td>\n",
       "      <td>Sadio Mané\\n26, AM(CLR),FW</td>\n",
       "      <td>175</td>\n",
       "      <td>69</td>\n",
       "      <td>28(1)</td>\n",
       "      <td>2456</td>\n",
       "      <td>17</td>\n",
       "      <td>1</td>\n",
       "      <td>1</td>\n",
       "      <td>-</td>\n",
       "      <td>2.4</td>\n",
       "      <td>78</td>\n",
       "      <td>0.9</td>\n",
       "      <td>5</td>\n",
       "      <td>7.42</td>\n",
       "      <td>109915</td>\n",
       "    </tr>\n",
       "    <tr>\n",
       "      <th>3</th>\n",
       "      <td></td>\n",
       "      <td>Trent Alexander-Arnold\\n20, D(R),M(R)</td>\n",
       "      <td>175</td>\n",
       "      <td>69</td>\n",
       "      <td>20(2)</td>\n",
       "      <td>1874</td>\n",
       "      <td>1</td>\n",
       "      <td>6</td>\n",
       "      <td>3</td>\n",
       "      <td>-</td>\n",
       "      <td>1</td>\n",
       "      <td>77.2</td>\n",
       "      <td>0.3</td>\n",
       "      <td>-</td>\n",
       "      <td>7.22</td>\n",
       "      <td>318871</td>\n",
       "    </tr>\n",
       "    <tr>\n",
       "      <th>4</th>\n",
       "      <td></td>\n",
       "      <td>Dejan Lovren\\n29, D(C)</td>\n",
       "      <td>188</td>\n",
       "      <td>84</td>\n",
       "      <td>9</td>\n",
       "      <td>810</td>\n",
       "      <td>1</td>\n",
       "      <td>-</td>\n",
       "      <td>1</td>\n",
       "      <td>-</td>\n",
       "      <td>0.6</td>\n",
       "      <td>85.8</td>\n",
       "      <td>4.6</td>\n",
       "      <td>1</td>\n",
       "      <td>7.21</td>\n",
       "      <td>29106</td>\n",
       "    </tr>\n",
       "  </tbody>\n",
       "</table>\n",
       "</div>"
      ],
      "text/plain": [
       "  R                                   Name height weight   apps  mins goals  \\\n",
       "0            Mohamed Salah\\n26, AM(CLR),FW    175     71  30(1)  2649    17   \n",
       "1                Virgil van Dijk\\n27, D(C)    193     92     31  2755     3   \n",
       "2               Sadio Mané\\n26, AM(CLR),FW    175     69  28(1)  2456    17   \n",
       "3    Trent Alexander-Arnold\\n20, D(R),M(R)    175     69  20(2)  1874     1   \n",
       "4                   Dejan Lovren\\n29, D(C)    188     84      9   810     1   \n",
       "\n",
       "  Assists Yel Red  SpG   PS% AerialsWon MotM Rating      ID  \n",
       "0       7   -   -  3.4  76.8        0.3    6   7.52  108226  \n",
       "1       1   1   -  0.8  89.6        4.7    4   7.44   95408  \n",
       "2       1   1   -  2.4    78        0.9    5   7.42  109915  \n",
       "3       6   3   -    1  77.2        0.3    -   7.22  318871  \n",
       "4       -   1   -  0.6  85.8        4.6    1   7.21   29106  "
      ]
     },
     "execution_count": 52,
     "metadata": {},
     "output_type": "execute_result"
    }
   ],
   "source": [
    "players_summary.head()"
   ]
  },
  {
   "cell_type": "code",
   "execution_count": 9,
   "metadata": {
    "ExecuteTime": {
     "end_time": "2019-03-17T11:52:19.915368Z",
     "start_time": "2019-03-17T11:52:19.898414Z"
    },
    "collapsed": true
   },
   "outputs": [],
   "source": [
    "\"\"\"Get Defensive Stats Function\"\"\"\n",
    "\n",
    "def getDefensiveStats(teams):\n",
    "    #Create empty list for future data\n",
    "    values=[]\n",
    "    #set Url\n",
    "    driver.get('https://www.whoscored.com/Teams/32/Show/England-Manchester-United')\n",
    "    #Wait for the page to load.\n",
    "    driver.implicitly_wait(40)\n",
    "    #Get the right table by clicking the defensive tab on the data table.\n",
    "    driver.find_elements_by_id(\"team-squad-stats-options\")[0].find_elements_by_tag_name('li')[1].click()\n",
    "    base = driver.find_elements_by_id('statistics-table-defensive')\n",
    "    tableRows = base[0].find_elements_by_tag_name('tr')\n",
    "    for item in range(1,len(tableRows)):\n",
    "        row     = tableRows[item].find_elements_by_tag_name('td')\n",
    "        values.append([row[i].text for i in range(1,len(row))])\n",
    "    df = pd.DataFrame(values)\n",
    "    #return the data table  \n",
    "    return df\n",
    "data = getDefensiveStats(teams)"
   ]
  },
  {
   "cell_type": "code",
   "execution_count": 18,
   "metadata": {
    "ExecuteTime": {
     "end_time": "2019-03-17T12:07:29.857213Z",
     "start_time": "2019-03-17T12:07:19.892279Z"
    },
    "collapsed": true
   },
   "outputs": [],
   "source": [
    "\"\"\"Get Attacking Stats Function\"\"\"\n",
    "\n",
    "def getAttackingStats(teams):\n",
    "    #Create empty list for future data\n",
    "    values=[]\n",
    "    #set Url\n",
    "    driver.get('https://www.whoscored.com/Teams/32/Show/England-Manchester-United')\n",
    "    #Wait for the page to load.\n",
    "    driver.implicitly_wait(40)\n",
    "    #Get the right table by clicking the defensive tab on the data table.\n",
    "    driver.find_elements_by_id(\"team-squad-stats-options\")[0].find_elements_by_tag_name('li')[2].click()\n",
    "    base = driver.find_elements_by_id('statistics-table-offensive')\n",
    "    tableRows = base[0].find_elements_by_tag_name('tr')\n",
    "    for item in range(1,len(tableRows)):\n",
    "        row     = tableRows[item].find_elements_by_tag_name('td')\n",
    "        values.append([row[i].text for i in range(1,len(row))])\n",
    "    df = pd.DataFrame(values)\n",
    "    #return the data table  \n",
    "    return df\n",
    "data = getAttackingStats(teams)"
   ]
  },
  {
   "cell_type": "code",
   "execution_count": null,
   "metadata": {
    "collapsed": true
   },
   "outputs": [],
   "source": []
  }
 ],
 "metadata": {
  "celltoolbar": "Raw Cell Format",
  "kernelspec": {
   "display_name": "Python 3",
   "language": "python",
   "name": "python3"
  },
  "language_info": {
   "codemirror_mode": {
    "name": "ipython",
    "version": 3
   },
   "file_extension": ".py",
   "mimetype": "text/x-python",
   "name": "python",
   "nbconvert_exporter": "python",
   "pygments_lexer": "ipython3",
   "version": "3.6.3"
  }
 },
 "nbformat": 4,
 "nbformat_minor": 2
}
