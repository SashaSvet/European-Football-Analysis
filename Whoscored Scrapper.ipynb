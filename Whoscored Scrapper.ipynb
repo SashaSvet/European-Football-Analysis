{
 "cells": [
  {
   "cell_type": "code",
   "execution_count": 1,
   "metadata": {
    "ExecuteTime": {
     "end_time": "2019-03-14T13:30:06.423839Z",
     "start_time": "2019-03-14T13:30:03.795211Z"
    },
    "collapsed": true
   },
   "outputs": [],
   "source": [
    "import pandas as pd\n",
    "from selenium import webdriver\n",
    "from selenium.webdriver.common.keys import Keys\n",
    "import re"
   ]
  },
  {
   "cell_type": "code",
   "execution_count": 2,
   "metadata": {
    "ExecuteTime": {
     "end_time": "2019-03-14T13:30:11.184588Z",
     "start_time": "2019-03-14T13:30:08.857845Z"
    },
    "collapsed": true
   },
   "outputs": [],
   "source": [
    "driver = webdriver.Chrome(r\"C:/chromedriver_win32/chromedriver.exe\")"
   ]
  },
  {
   "cell_type": "code",
   "execution_count": 3,
   "metadata": {
    "ExecuteTime": {
     "end_time": "2019-03-14T13:30:15.996736Z",
     "start_time": "2019-03-14T13:30:11.185442Z"
    },
    "collapsed": true
   },
   "outputs": [],
   "source": [
    "#Get Teams Names and ids\n",
    "def getTeams():\n",
    "    driver.get('https://www.whoscored.com/Regions/252/Tournaments/2/')\n",
    "    base = driver.find_element_by_id('standings-16368-content')\n",
    "    rows =base.find_elements_by_tag_name('tr')\n",
    "    teams = []\n",
    "    for item in range(0,len(rows)):\n",
    "        data = rows[item].find_elements_by_tag_name('td')\n",
    "        teams.append(data[1].text)\n",
    "    links = []\n",
    "    for i in range(0,len(rows)):\n",
    "        links.append(rows[i].find_elements_by_class_name('team-link')[0].get_attribute('href'))\n",
    "    team_ids = []\n",
    "    for i in range(0,len(links)):\n",
    "        team_ids.append(re.search(r'\\d+', links[i]).group())\n",
    "    team_ids = list(map(int, team_ids))\n",
    "    for i in range(0,len(teams)):\n",
    "        if ' ' in teams[i]:\n",
    "            teams[i] = teams[i].replace(' ','-')\n",
    "\n",
    "    teams = dict(zip(teams, team_ids))\n",
    "    return teams\n",
    "teams = getTeams()"
   ]
  },
  {
   "cell_type": "code",
   "execution_count": 4,
   "metadata": {
    "ExecuteTime": {
     "end_time": "2019-03-14T13:38:30.627901Z",
     "start_time": "2019-03-14T13:30:15.998707Z"
    },
    "collapsed": true
   },
   "outputs": [],
   "source": [
    "# # Get Players stats for each team.\n",
    "def getPlayerSummary(teams):\n",
    "    values =[]\n",
    "    dfOut=[]\n",
    "    for i in teams.values(): \n",
    "        driver.get('https://www.whoscored.com/Teams/'+str(i))\n",
    "        driver.implicitly_wait(40)\n",
    "        base = driver.find_element_by_id('top-player-stats-summary-grid')\n",
    "        table = base.find_element_by_id('player-table-statistics-body')\n",
    "        tableRows = table.find_elements_by_tag_name('tr')\n",
    "        for item in range(1,len(tableRows)):\n",
    "                row     = tableRows[item].find_elements_by_tag_name('td')\n",
    "                values.append([row[i].text for i in range(1,len(row))])\n",
    "        for j in range(0,len(values)):\n",
    "            dfOut.append([i,values[j][0],values[j][1],values[j][2],values[j][3],values[j][4],\n",
    "                          values[j][5],values[j][6],\n",
    "                                values[j][7],values[j][8],values[j][9],values[j][10],values[j][11],\n",
    "                         values[j][12],values[j][13],values[j][14]])\n",
    "    dfOut = pd.DataFrame(dfOut)\n",
    "    dfOut = dfOut.drop_duplicates()\n",
    "    return dfOut\n",
    "players_summary = getPlayerSummary(teams)"
   ]
  },
  {
   "cell_type": "code",
   "execution_count": 116,
   "metadata": {
    "ExecuteTime": {
     "end_time": "2019-03-12T22:25:29.397907Z",
     "start_time": "2019-03-12T22:25:24.142064Z"
    },
    "collapsed": true
   },
   "outputs": [],
   "source": [
    "driver.get('https://www.whoscored.com/Teams/'+str(23))\n",
    "driver.implicitly_wait(20)\n",
    "base = driver.find_element_by_id('top-player-stats-summary-grid')"
   ]
  },
  {
   "cell_type": "code",
   "execution_count": 120,
   "metadata": {
    "ExecuteTime": {
     "end_time": "2019-03-12T22:41:53.281083Z",
     "start_time": "2019-03-12T22:41:53.234974Z"
    },
    "collapsed": true
   },
   "outputs": [],
   "source": []
  },
  {
   "cell_type": "code",
   "execution_count": 6,
   "metadata": {
    "ExecuteTime": {
     "end_time": "2019-03-04T19:59:19.472997Z",
     "start_time": "2019-03-04T19:59:19.464020Z"
    },
    "collapsed": true
   },
   "outputs": [],
   "source": [
    "player_summary_df = pd.DataFrame(columns=[\"R\", \"player\", \"height\", \"weight\", \"apps\",\n",
    "                                          'mins','goals','Assists','Yel','Red',\n",
    "                                          'SpG','PS%','AerialsWon','MotM','Rating'])"
   ]
  },
  {
   "cell_type": "code",
   "execution_count": 50,
   "metadata": {
    "ExecuteTime": {
     "end_time": "2019-03-12T19:32:05.160095Z",
     "start_time": "2019-03-12T19:31:58.984609Z"
    },
    "collapsed": true
   },
   "outputs": [],
   "source": [
    "driver.get('https://www.whoscored.com/Teams/32/Show/England-Manchester-United')\n",
    "driver.implicitly_wait(20)\n",
    "driver.find_elements_by_id(\"team-squad-stats-options\")[0].find_elements_by_tag_name('li')[1].click()\n",
    "base = driver.find_elements_by_id('statistics-table-defensive')\n",
    "tableRows = base[0].find_elements_by_tag_name('tr')\n",
    "tableRows[1].text"
   ]
  },
  {
   "cell_type": "code",
   "execution_count": 59,
   "metadata": {
    "ExecuteTime": {
     "end_time": "2019-03-12T21:10:02.349492Z",
     "start_time": "2019-03-12T21:09:57.835735Z"
    },
    "collapsed": true
   },
   "outputs": [],
   "source": [
    "driver.get('https://www.whoscored.com/Regions/252/Tournaments/2/')\n",
    "base = driver.find_element_by_id('standings-16368-content')\n",
    "rows =base.find_elements_by_tag_name('tr')"
   ]
  }
 ],
 "metadata": {
  "celltoolbar": "Raw Cell Format",
  "kernelspec": {
   "display_name": "Python 3",
   "language": "python",
   "name": "python3"
  },
  "language_info": {
   "codemirror_mode": {
    "name": "ipython",
    "version": 3
   },
   "file_extension": ".py",
   "mimetype": "text/x-python",
   "name": "python",
   "nbconvert_exporter": "python",
   "pygments_lexer": "ipython3",
   "version": "3.6.3"
  }
 },
 "nbformat": 4,
 "nbformat_minor": 2
}
