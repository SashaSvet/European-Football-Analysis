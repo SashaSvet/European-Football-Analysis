{
 "cells": [
  {
   "cell_type": "code",
   "execution_count": 2,
   "metadata": {
    "ExecuteTime": {
     "end_time": "2019-03-17T11:50:12.610532Z",
     "start_time": "2019-03-17T11:50:12.212072Z"
    },
    "collapsed": true
   },
   "outputs": [],
   "source": [
    "import pandas as pd\n",
    "from selenium import webdriver\n",
    "from selenium.webdriver.common.keys import Keys\n",
    "import re"
   ]
  },
  {
   "cell_type": "code",
   "execution_count": 4,
   "metadata": {
    "ExecuteTime": {
     "end_time": "2019-03-17T11:50:31.811745Z",
     "start_time": "2019-03-17T11:50:29.692472Z"
    },
    "collapsed": true
   },
   "outputs": [],
   "source": [
    "driver = webdriver.Chrome(r\"C:/chromedriver_win32/chromedriver.exe\")"
   ]
  },
  {
   "cell_type": "code",
   "execution_count": null,
   "metadata": {
    "collapsed": true
   },
   "outputs": [],
   "source": [
    "player_summary_df = pd.DataFrame(columns=[\"R\", \"player\", \"height\", \"weight\", \"apps\",\n",
    "                                          'mins','goals','Assists','Yel','Red',\n",
    "                                          'SpG','PS%','AerialsWon','MotM','Rating'])"
   ]
  },
  {
   "cell_type": "code",
   "execution_count": 5,
   "metadata": {
    "ExecuteTime": {
     "end_time": "2019-03-17T11:50:38.498503Z",
     "start_time": "2019-03-17T11:50:33.266785Z"
    }
   },
   "outputs": [],
   "source": [
    "#Get Teams Names and ids\n",
    "def getTeams():\n",
    "    #Create URL\n",
    "    driver.get('https://www.whoscored.com/Regions/252/Tournaments/2/')\n",
    "    #Go to the wanted data table\n",
    "    base = driver.find_element_by_id('standings-16368-content')\n",
    "    #Get table rows\n",
    "    rows =base.find_elements_by_tag_name('tr')\n",
    "    teams = []\n",
    "    for item in range(0,len(rows)):\n",
    "        #Go to specific location to find the team name\n",
    "        data = rows[item].find_elements_by_tag_name('td')\n",
    "        teams.append(data[1].text)\n",
    "    links = []\n",
    "    for i in range(0,len(rows)):\n",
    "        #Get the team ID\n",
    "        links.append(rows[i].find_elements_by_class_name('team-link')[0].get_attribute('href'))\n",
    "    team_ids = []\n",
    "    #With regular expressions module, extract the id from team's link.\n",
    "    for i in range(0,len(links)):\n",
    "        team_ids.append(re.search(r'\\d+', links[i]).group())\n",
    "    team_ids = list(map(int, team_ids))\n",
    "    for i in range(0,len(teams)):\n",
    "        #Replace spaces in team name\n",
    "        if ' ' in teams[i]:\n",
    "            teams[i] = teams[i].replace(' ','-')\n",
    "    #Construct a dict of team names and ids\n",
    "    teams = dict(zip(teams, team_ids))\n",
    "    return teams\n",
    "teams = getTeams()"
   ]
  },
  {
   "cell_type": "code",
   "execution_count": 16,
   "metadata": {
    "ExecuteTime": {
     "end_time": "2019-03-17T12:01:24.258885Z",
     "start_time": "2019-03-17T11:56:02.195356Z"
    },
    "collapsed": true
   },
   "outputs": [],
   "source": [
    "# # Get Players stats for each team.\n",
    "def getPlayerSummary(teams):\n",
    "    values =[]\n",
    "    for i in teams.values(): \n",
    "        driver.get('https://www.whoscored.com/Teams/'+str(i))\n",
    "        driver.implicitly_wait(40)\n",
    "        base = driver.find_element_by_id('top-player-stats-summary-grid')\n",
    "        table = base.find_element_by_id('player-table-statistics-body')\n",
    "        tableRows = table.find_elements_by_tag_name('tr')\n",
    "        for item in range(1,len(tableRows)):\n",
    "                row     = tableRows[item].find_elements_by_tag_name('td')\n",
    "                values.append([row[i].text for i in range(1,len(row))])\n",
    "    dfOut = pd.DataFrame(values)\n",
    "    return dfOut\n",
    "players_summary = getPlayerSummary(teams)"
   ]
  },
  {
   "cell_type": "code",
   "execution_count": 9,
   "metadata": {
    "ExecuteTime": {
     "end_time": "2019-03-17T11:52:19.915368Z",
     "start_time": "2019-03-17T11:52:19.898414Z"
    }
   },
   "outputs": [],
   "source": [
    "def getDefensiveStats(teams):\n",
    "    #Create empty list for future data\n",
    "    values=[]\n",
    "    #set Url\n",
    "    driver.get('https://www.whoscored.com/Teams/32/Show/England-Manchester-United')\n",
    "    #Wait for the page to load.\n",
    "    driver.implicitly_wait(40)\n",
    "    #Get the right table by clicking the defensive tab on the data table.\n",
    "    driver.find_elements_by_id(\"team-squad-stats-options\")[0].find_elements_by_tag_name('li')[1].click()\n",
    "    base = driver.find_elements_by_id('statistics-table-defensive')\n",
    "    tableRows = base[0].find_elements_by_tag_name('tr')\n",
    "    for item in range(1,len(tableRows)):\n",
    "        row     = tableRows[item].find_elements_by_tag_name('td')\n",
    "        values.append([row[i].text for i in range(1,len(row))])\n",
    "    df = pd.DataFrame(values)\n",
    "    #return the data table  \n",
    "    return df\n",
    "data = getDefensiveStats(teams)"
   ]
  },
  {
   "cell_type": "code",
   "execution_count": 18,
   "metadata": {
    "ExecuteTime": {
     "end_time": "2019-03-17T12:07:29.857213Z",
     "start_time": "2019-03-17T12:07:19.892279Z"
    },
    "collapsed": true
   },
   "outputs": [],
   "source": [
    "def getAttackingStats(teams):\n",
    "    #Create empty list for future data\n",
    "    values=[]\n",
    "    #set Url\n",
    "    driver.get('https://www.whoscored.com/Teams/32/Show/England-Manchester-United')\n",
    "    #Wait for the page to load.\n",
    "    driver.implicitly_wait(40)\n",
    "    #Get the right table by clicking the defensive tab on the data table.\n",
    "    driver.find_elements_by_id(\"team-squad-stats-options\")[0].find_elements_by_tag_name('li')[2].click()\n",
    "    base = driver.find_elements_by_id('statistics-table-offensive')\n",
    "    tableRows = base[0].find_elements_by_tag_name('tr')\n",
    "    for item in range(1,len(tableRows)):\n",
    "        row     = tableRows[item].find_elements_by_tag_name('td')\n",
    "        values.append([row[i].text for i in range(1,len(row))])\n",
    "    df = pd.DataFrame(values)\n",
    "    #return the data table  \n",
    "    return df\n",
    "data = getAttackingStats(teams)"
   ]
  }
 ],
 "metadata": {
  "celltoolbar": "Raw Cell Format",
  "kernelspec": {
   "display_name": "Python 3",
   "language": "python",
   "name": "python3"
  },
  "language_info": {
   "codemirror_mode": {
    "name": "ipython",
    "version": 3
   },
   "file_extension": ".py",
   "mimetype": "text/x-python",
   "name": "python",
   "nbconvert_exporter": "python",
   "pygments_lexer": "ipython3",
   "version": "3.6.3"
  }
 },
 "nbformat": 4,
 "nbformat_minor": 2
}
