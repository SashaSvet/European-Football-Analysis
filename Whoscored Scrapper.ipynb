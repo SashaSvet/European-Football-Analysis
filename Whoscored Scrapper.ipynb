{
 "cells": [
  {
   "cell_type": "code",
   "execution_count": 20,
   "metadata": {
    "ExecuteTime": {
     "end_time": "2019-03-17T21:08:16.306973Z",
     "start_time": "2019-03-17T21:08:16.276301Z"
    },
    "collapsed": true
   },
   "outputs": [],
   "source": [
    "import pandas as pd\n",
    "from selenium import webdriver\n",
    "from selenium.webdriver.common.keys import Keys\n",
    "import re"
   ]
  },
  {
   "cell_type": "code",
   "execution_count": 21,
   "metadata": {
    "ExecuteTime": {
     "end_time": "2019-03-17T21:08:20.332840Z",
     "start_time": "2019-03-17T21:08:17.704262Z"
    },
    "collapsed": true
   },
   "outputs": [],
   "source": [
    "driver = webdriver.Chrome(r\"C:/chromedriver_win32/chromedriver.exe\")"
   ]
  },
  {
   "cell_type": "code",
   "execution_count": 22,
   "metadata": {
    "ExecuteTime": {
     "end_time": "2019-03-17T21:08:20.456287Z",
     "start_time": "2019-03-17T21:08:20.336412Z"
    },
    "collapsed": true
   },
   "outputs": [],
   "source": [
    "player_summary_df = pd.DataFrame(columns=[\"R\", \"player\", \"height\", \"weight\", \"apps\",\n",
    "                                          'mins','goals','Assists','Yel','Red',\n",
    "                                          'SpG','PS%','AerialsWon','MotM','Rating'])"
   ]
  },
  {
   "cell_type": "code",
   "execution_count": 23,
   "metadata": {
    "ExecuteTime": {
     "end_time": "2019-03-17T21:08:35.261418Z",
     "start_time": "2019-03-17T21:08:23.364397Z"
    },
    "collapsed": true
   },
   "outputs": [],
   "source": [
    "#Get Teams Names and ids\n",
    "def getTeams():\n",
    "    #Create URL\n",
    "    driver.get('https://www.whoscored.com/Regions/252/Tournaments/2/')\n",
    "    #Go to the wanted data table\n",
    "    base = driver.find_element_by_id('standings-16368-content')\n",
    "    #Get table rows\n",
    "    rows =base.find_elements_by_tag_name('tr')\n",
    "    teams = []\n",
    "    for item in range(0,len(rows)):\n",
    "        #Go to specific location to find the team name\n",
    "        data = rows[item].find_elements_by_tag_name('td')\n",
    "        teams.append(data[1].text)\n",
    "    links = []\n",
    "    for i in range(0,len(rows)):\n",
    "        #Get the team ID\n",
    "        links.append(rows[i].find_elements_by_class_name('team-link')[0].get_attribute('href'))\n",
    "    team_ids = []\n",
    "    #With regular expressions module, extract the id from team's link.\n",
    "    for i in range(0,len(links)):\n",
    "        team_ids.append(re.search(r'\\d+', links[i]).group())\n",
    "    team_ids = list(map(int, team_ids))\n",
    "    for i in range(0,len(teams)):\n",
    "        #Replace spaces in team name\n",
    "        if ' ' in teams[i]:\n",
    "            teams[i] = teams[i].replace(' ','-')\n",
    "    #Construct a dict of team names and ids\n",
    "    teams = dict(zip(teams, team_ids))\n",
    "    return teams\n",
    "teams = getTeams()"
   ]
  },
  {
   "cell_type": "code",
   "execution_count": null,
   "metadata": {
    "ExecuteTime": {
     "start_time": "2019-03-17T21:26:46.338Z"
    }
   },
   "outputs": [],
   "source": [
    "\"\"\"Get Summary stats Stats Function\"\"\"\n",
    "players_names = []\n",
    "players_ids = []\n",
    "def getPlayerSummary(teams):\n",
    "    values =[]\n",
    "    for i in teams.values(): \n",
    "        driver.get('https://www.whoscored.com/Teams/'+str(i))\n",
    "        driver.implicitly_wait(40)\n",
    "        base = driver.find_element_by_id('top-player-stats-summary-grid')\n",
    "        table = base.find_element_by_id('player-table-statistics-body')\n",
    "        tableRows = table.find_elements_by_tag_name('tr')\n",
    "        for item in range(1,len(tableRows)):\n",
    "                link = tableRows[item].find_elements_by_class_name('player-link')[0].get_attribute('href')\n",
    "                players_ids.append(re.search(r'\\d+',link).group())\n",
    "                row     = tableRows[item].find_elements_by_tag_name('td')\n",
    "                players_names.append(row[1].text)\n",
    "                values.append([row[i].text for i in range(1,len(row))])\n",
    "    list_of_players = list(zip(players_names, players_ids))\n",
    "    players = pd.DataFrame(list_of_players, columns = ['Name', 'ID'])\n",
    "    dfOut = pd.DataFrame(values,columns=[\"R\", \"Name\", \"height\", \"weight\", \"apps\",'mins','goals','Assists','Yel','Red',\n",
    "                                         'SpG','PS%','AerialsWon','MotM','Rating'])\n",
    "    dfOut = pd.merge(dfOut,players,on='Name')\n",
    "    return dfOut\n",
    "players_summary = getPlayerSummary(teams)"
   ]
  },
  {
   "cell_type": "code",
   "execution_count": 24,
   "metadata": {
    "ExecuteTime": {
     "end_time": "2019-03-17T21:09:40.775362Z",
     "start_time": "2019-03-17T21:09:38.021640Z"
    },
    "collapsed": true
   },
   "outputs": [],
   "source": [
    "driver.get('https://www.whoscored.com/Teams/32/Show/England-Manchester-United')\n",
    "driver.implicitly_wait(40)\n",
    "base = driver.find_element_by_id('top-player-stats-summary-grid')\n",
    "table = base.find_element_by_id('player-table-statistics-body')\n",
    "tableRows = table.find_elements_by_tag_name('tr')"
   ]
  },
  {
   "cell_type": "code",
   "execution_count": 26,
   "metadata": {
    "ExecuteTime": {
     "end_time": "2019-03-17T21:10:40.411648Z",
     "start_time": "2019-03-17T21:10:40.353328Z"
    }
   },
   "outputs": [
    {
     "data": {
      "text/plain": [
       "'https://www.whoscored.com/Players/97752/Show/Paul-Pogba'"
      ]
     },
     "execution_count": 26,
     "metadata": {},
     "output_type": "execute_result"
    }
   ],
   "source": [
    "tableRows[0].find_elements_by_class_name('player-link')[0].get_attribute('href')"
   ]
  },
  {
   "cell_type": "code",
   "execution_count": 9,
   "metadata": {
    "ExecuteTime": {
     "end_time": "2019-03-17T11:52:19.915368Z",
     "start_time": "2019-03-17T11:52:19.898414Z"
    },
    "collapsed": true
   },
   "outputs": [],
   "source": [
    "\"\"\"Get Defensive Stats Function\"\"\"\n",
    "\n",
    "def getDefensiveStats(teams):\n",
    "    #Create empty list for future data\n",
    "    values=[]\n",
    "    #set Url\n",
    "    driver.get('https://www.whoscored.com/Teams/32/Show/England-Manchester-United')\n",
    "    #Wait for the page to load.\n",
    "    driver.implicitly_wait(40)\n",
    "    #Get the right table by clicking the defensive tab on the data table.\n",
    "    driver.find_elements_by_id(\"team-squad-stats-options\")[0].find_elements_by_tag_name('li')[1].click()\n",
    "    base = driver.find_elements_by_id('statistics-table-defensive')\n",
    "    tableRows = base[0].find_elements_by_tag_name('tr')\n",
    "    for item in range(1,len(tableRows)):\n",
    "        row     = tableRows[item].find_elements_by_tag_name('td')\n",
    "        values.append([row[i].text for i in range(1,len(row))])\n",
    "    df = pd.DataFrame(values)\n",
    "    #return the data table  \n",
    "    return df\n",
    "data = getDefensiveStats(teams)"
   ]
  },
  {
   "cell_type": "code",
   "execution_count": 18,
   "metadata": {
    "ExecuteTime": {
     "end_time": "2019-03-17T12:07:29.857213Z",
     "start_time": "2019-03-17T12:07:19.892279Z"
    },
    "collapsed": true
   },
   "outputs": [],
   "source": [
    "\"\"\"Get Attacking Stats Function\"\"\"\n",
    "\n",
    "def getAttackingStats(teams):\n",
    "    #Create empty list for future data\n",
    "    values=[]\n",
    "    #set Url\n",
    "    driver.get('https://www.whoscored.com/Teams/32/Show/England-Manchester-United')\n",
    "    #Wait for the page to load.\n",
    "    driver.implicitly_wait(40)\n",
    "    #Get the right table by clicking the defensive tab on the data table.\n",
    "    driver.find_elements_by_id(\"team-squad-stats-options\")[0].find_elements_by_tag_name('li')[2].click()\n",
    "    base = driver.find_elements_by_id('statistics-table-offensive')\n",
    "    tableRows = base[0].find_elements_by_tag_name('tr')\n",
    "    for item in range(1,len(tableRows)):\n",
    "        row     = tableRows[item].find_elements_by_tag_name('td')\n",
    "        values.append([row[i].text for i in range(1,len(row))])\n",
    "    df = pd.DataFrame(values)\n",
    "    #return the data table  \n",
    "    return df\n",
    "data = getAttackingStats(teams)"
   ]
  },
  {
   "cell_type": "code",
   "execution_count": null,
   "metadata": {
    "collapsed": true
   },
   "outputs": [],
   "source": []
  }
 ],
 "metadata": {
  "celltoolbar": "Raw Cell Format",
  "kernelspec": {
   "display_name": "Python 3",
   "language": "python",
   "name": "python3"
  },
  "language_info": {
   "codemirror_mode": {
    "name": "ipython",
    "version": 3
   },
   "file_extension": ".py",
   "mimetype": "text/x-python",
   "name": "python",
   "nbconvert_exporter": "python",
   "pygments_lexer": "ipython3",
   "version": "3.6.3"
  }
 },
 "nbformat": 4,
 "nbformat_minor": 2
}
